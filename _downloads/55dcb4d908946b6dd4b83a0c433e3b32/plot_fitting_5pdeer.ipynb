{
  "cells": [
    {
      "cell_type": "code",
      "execution_count": null,
      "metadata": {
        "collapsed": false
      },
      "outputs": [],
      "source": [
        "%matplotlib inline"
      ]
    },
    {
      "cell_type": "markdown",
      "metadata": {},
      "source": [
        "\n# Fitting a 5-pulse DEER signal with a parameter-free distribution\n\nThis example shows how to fit a 5-pulse DEER signal with a parameter-\nfree distribution, a background, and all pathways parameters\n"
      ]
    },
    {
      "cell_type": "code",
      "execution_count": null,
      "metadata": {
        "collapsed": false
      },
      "outputs": [],
      "source": [
        "import numpy as np\nimport matplotlib.pyplot as plt\nimport deerlab as dl"
      ]
    },
    {
      "cell_type": "markdown",
      "metadata": {},
      "source": [
        "Generate data\n\n"
      ]
    },
    {
      "cell_type": "code",
      "execution_count": null,
      "metadata": {
        "collapsed": false
      },
      "outputs": [],
      "source": [
        "t = np.linspace(-0.1,6.5,200)    # time axis, \u00b5s\nr = np.linspace(1.5,6,100)          # distance axis, nm\nparam0 = [3, 0.1, 0.2, 3.5, 0.1, 0.65, 3.8, 0.05, 0.15] # parameters for three-Gaussian model\nP = dl.dd_gauss3(r,param0)         # model distance distribution\nB = lambda t,lam: dl.bg_hom3d(t,300,lam) # background decay\nexparam = [0.6, 0.3, 0.1, 3.2]     # parameters for 5pDEER experiment\npathinfo = dl.ex_5pdeer(exparam)   # pathways information\n\nK = dl.dipolarkernel(t,r,pathinfo,B)\nVexp = K@P + dl.whitegaussnoise(t,0.005,seed=1)"
      ]
    },
    {
      "cell_type": "markdown",
      "metadata": {},
      "source": [
        "Now, 5pDEER data contain 3 additional parameters compared to 4pDEER (due\nto the additional dipolar pathway present in the signal). However, the\nrefocusing time of the second dipolar pathway is very easy to constrain\nand strongly helps stabilizing the fit. \n\nThis pathway ususally refocuses at around ``t = max(t)/2``, and usually can\nbe even estimated from simple visual inspection of the signal. \nThus, we can strongly constraint this parameters while leaving the\npathway amplitudes pretty much unconstrained.\n\n\n"
      ]
    },
    {
      "cell_type": "code",
      "execution_count": null,
      "metadata": {
        "collapsed": false
      },
      "outputs": [],
      "source": [
        "ex_lb   = [ 0,   0,   0,  max(t)/2-1] # lower bounds\nex_ub   = [100, 100, 100, max(t)/2+1] # upper bounds\nex_par0 = [0.5, 0.5, 0.5, max(t)/2  ] # start values"
      ]
    },
    {
      "cell_type": "markdown",
      "metadata": {},
      "source": [
        "In this case we only want to set the bounds for the experiment\nparameters, so we can leave the rest empty:\n\n\n"
      ]
    },
    {
      "cell_type": "code",
      "execution_count": null,
      "metadata": {
        "collapsed": false
      },
      "outputs": [],
      "source": [
        "ub = [[],[],ex_ub]\nlb = [[],[],ex_lb]\npar0 = [[],[],ex_par0]"
      ]
    },
    {
      "cell_type": "markdown",
      "metadata": {},
      "source": [
        "Run the fit with a 5-pulse DEER signal model\n\n"
      ]
    },
    {
      "cell_type": "code",
      "execution_count": null,
      "metadata": {
        "collapsed": false
      },
      "outputs": [],
      "source": [
        "fit = dl.fitsignal(Vexp,t,r,'P',dl.bg_hom3d,dl.ex_5pdeer,par0,lb,ub)\nfit.plot()"
      ]
    }
  ],
  "metadata": {
    "kernelspec": {
      "display_name": "Python 3",
      "language": "python",
      "name": "python3"
    },
    "language_info": {
      "codemirror_mode": {
        "name": "ipython",
        "version": 3
      },
      "file_extension": ".py",
      "mimetype": "text/x-python",
      "name": "python",
      "nbconvert_exporter": "python",
      "pygments_lexer": "ipython3",
      "version": "3.7.9"
    }
  },
  "nbformat": 4,
  "nbformat_minor": 0
}