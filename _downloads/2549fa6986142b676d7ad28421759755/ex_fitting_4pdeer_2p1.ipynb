{
  "cells": [
    {
      "cell_type": "code",
      "execution_count": null,
      "metadata": {
        "collapsed": false
      },
      "outputs": [],
      "source": [
        "%matplotlib inline"
      ]
    },
    {
      "cell_type": "markdown",
      "metadata": {},
      "source": [
        "\n# Basic fitting of a 4-pulse DEER signal, with 2+1 contribution\n\nThis example shows how to fit a 4-pulse DEER signal with a non-parametric\ndistribution, including the \"2+1\" pathway contribution.\n"
      ]
    },
    {
      "cell_type": "code",
      "execution_count": null,
      "metadata": {
        "collapsed": false
      },
      "outputs": [],
      "source": [
        "import numpy as np\nimport matplotlib.pyplot as plt\nimport deerlab as dl"
      ]
    },
    {
      "cell_type": "markdown",
      "metadata": {},
      "source": [
        "## Load and pre-process data\n\nUncomment and use the following lines if you have experimental data::\n\n  t,Vexp = dl.deerload('my\\path\\4pdeer_data.DTA')\n  Vexp = dl.correctphase(Vexp)\n  t = dl.correctzerotime(Vexp,t)\n\nIn this example we will use simulated data instead:\n\n"
      ]
    },
    {
      "cell_type": "markdown",
      "metadata": {},
      "source": [
        "## Generate data\n\n In this example we will use simulated data instead:\n\n"
      ]
    },
    {
      "cell_type": "code",
      "execution_count": null,
      "metadata": {
        "collapsed": false
      },
      "outputs": [],
      "source": [
        "# Define a function that generates synthetic data\ndef generatedata():\n    t = np.linspace(-0.2,4,200)                             # time axis, \u00b5s\n    r = np.linspace(2,5,200)                                # distance axis, nm\n    param0 = [3, 0.1, 0.2, 3.5, 0.1, 0.65, 3.8, 0.05, 0.15] # parameters for three-Gaussian model\n    P = dl.dd_gauss3(r,param0)                              # model distance distribution\n    B = lambda t,lam: dl.bg_hom3d(t,300,lam)                # background decay\n    exparam = [0.6, 0.3, 0.1, 4.1]                          # parameters for the experiment model\n    pathways = dl.ex_ovl4pdeer(exparam)                     # pathways information\n    K = dl.dipolarkernel(t,r,pathways=pathways,bg=B)\n    Vexp = K@P + dl.whitegaussnoise(t,0.01,seed=1)\n    return t, Vexp\n    \nt, Vexp = generatedata()"
      ]
    },
    {
      "cell_type": "markdown",
      "metadata": {},
      "source": [
        "Now, if we take the \"2+1\" contribution into account, the 4pDEER model\ncontains 3 additional parameters compared to a simplified 4pDEER model (due\nto the additional dipolar pathway present in the signal). However, the\nrefocusing time of the second dipolar pathway is very easy to constrain\nand strongly helps stabilizing the fit. \n\nThis pathway can even estimated visually from the signal or estimated from the \npulse sequence timings. Thus, we can strongly constraint this parameters while leaving the\npathway amplitudes pretty much unconstrained.\n\n%%\n\n"
      ]
    },
    {
      "cell_type": "code",
      "execution_count": null,
      "metadata": {
        "collapsed": false
      },
      "outputs": [],
      "source": [
        "# Define initial values and bounds for model parameters\nex_lb   = [ 0,   0,   0,  max(t)-1] # lower bounds\nex_ub   = [1, 1, 1, max(t)+1] # upper bounds\nex_par0 = [0.3, 0.3, 0.3, max(t)  ] # start values"
      ]
    },
    {
      "cell_type": "markdown",
      "metadata": {},
      "source": [
        "Run the fit with a 4-pulse DEER model that includes the \"2+1\" pathway contribution\n\n"
      ]
    },
    {
      "cell_type": "code",
      "execution_count": null,
      "metadata": {
        "collapsed": false
      },
      "outputs": [],
      "source": [
        "r = np.linspace(2,5,200)\nfit = dl.fitmodel(Vexp,t,r,'P',dl.bg_hom3d,dl.ex_ovl4pdeer,\n                  ex_par0=ex_par0,ex_lb=ex_lb,ex_ub=ex_ub,verbose=True)\nfit.plot();"
      ]
    }
  ],
  "metadata": {
    "kernelspec": {
      "display_name": "Python 3",
      "language": "python",
      "name": "python3"
    },
    "language_info": {
      "codemirror_mode": {
        "name": "ipython",
        "version": 3
      },
      "file_extension": ".py",
      "mimetype": "text/x-python",
      "name": "python",
      "nbconvert_exporter": "python",
      "pygments_lexer": "ipython3",
      "version": "3.7.10"
    }
  },
  "nbformat": 4,
  "nbformat_minor": 0
}