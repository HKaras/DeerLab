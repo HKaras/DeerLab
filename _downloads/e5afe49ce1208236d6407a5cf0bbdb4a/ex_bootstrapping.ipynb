{
  "cells": [
    {
      "cell_type": "code",
      "execution_count": null,
      "metadata": {
        "collapsed": false
      },
      "outputs": [],
      "source": [
        "%matplotlib inline"
      ]
    },
    {
      "cell_type": "markdown",
      "metadata": {},
      "source": [
        "# Bootstrapped confidence intervals in routine analysis\n\nHow to obtain bootstrapped confidence intervals for simple routine operations with ``fitmodel``.\n"
      ]
    },
    {
      "cell_type": "code",
      "execution_count": null,
      "metadata": {
        "collapsed": false
      },
      "outputs": [],
      "source": [
        "import numpy as np\nimport matplotlib.pyplot as plt\nimport deerlab as dl"
      ]
    },
    {
      "cell_type": "markdown",
      "metadata": {},
      "source": [
        "Uncomment and use the following lines if you have experimental data::\n\n  t,Vexp = dl.deerload('my\\path\\4pdeer_data.DTA')\n  Vexp = dl.correctphase(Vexp)\n  t = dl.correctzerotime(Vexp,t)\n\n\n"
      ]
    },
    {
      "cell_type": "markdown",
      "metadata": {},
      "source": [
        "In this example we will use simulated data instead:\n\n"
      ]
    },
    {
      "cell_type": "code",
      "execution_count": null,
      "metadata": {
        "collapsed": false
      },
      "outputs": [],
      "source": [
        "# Define a function that generates synthetic data\ndef simulatedata():\n    t = np.linspace(-0.1,4,250)        # time axis, \u00b5s\n    r = np.linspace(2,5,200)           # distance axis, nm\n    param = [3, 0.1, 0.2, 3.5, 0.1, 0.65, 3.8, 0.05, 0.15] # parameters for three-Gaussian model\n    P = dl.dd_gauss3(r,param)          # model distance distribution\n    lam = 0.5                          # modulation depth\n    B = dl.bg_hom3d(t,300,lam)         # background decay\n    K = dl.dipolarkernel(t,r,mod=lam,bg=B)    # kernel matrix\n    Vexp = K@P + dl.whitegaussnoise(t,0.01,seed=0)\n    return t, Vexp\n\nt, Vexp = simulatedata()"
      ]
    },
    {
      "cell_type": "markdown",
      "metadata": {},
      "source": [
        "Unless specified otherwise, the function ``fitmodel`` will return asymptotic confidence intervals based on the covariance matrix \nof the objective function used to fit the data. These are quick to calculate and therefore very comfortable for quick estimates of\nthe uncertainty during routine analysis or testing. \n\nHowever, for publication-level analysis, these confidence intervals might be inaccurate. It is strongly recommended to employ bootstrapped \nconfidence intervals to get accurate estimates of the uncertainty. \nConviniently, ``fitmodel`` integrates bootstrapping to make it accessible by only adjusting the option ``'uq'`` to ``'bootstrap'``. \nThe option also allows to specify the number of samples to analyze to estimate the uncertainty. The larger this number, the more accurate \nthe confidence intervals but the longer the analysis will be. The standard for publication is typically 1000 samples. \n\nIf the option ``'verbose'`` is enabled, a progress bar will be shown indicating the remaining time for the bootstrapping to finish.\n\nIn this example, for the sake of time, we will just use 50 bootstrap samples.  \n\n"
      ]
    },
    {
      "cell_type": "code",
      "execution_count": null,
      "metadata": {
        "collapsed": false
      },
      "outputs": [],
      "source": [
        "r = np.linspace(2,5,200)\nBootSamples = 50 # For publication-grade analysis, the standard is 1000\nfit = dl.fitmodel(Vexp,t,r,'P',dl.bg_hom3d,dl.ex_4pdeer,uq=['bootstrap',BootSamples])\nfit.plot();"
      ]
    },
    {
      "cell_type": "markdown",
      "metadata": {},
      "source": [
        "Note that in the automatic plot, instead of the fit, the median of the bootstrapped distribution is shown. \n"
      ]
    }
  ],
  "metadata": {
    "kernelspec": {
      "display_name": "Python 3",
      "language": "python",
      "name": "python3"
    },
    "language_info": {
      "codemirror_mode": {
        "name": "ipython",
        "version": 3
      },
      "file_extension": ".py",
      "mimetype": "text/x-python",
      "name": "python",
      "nbconvert_exporter": "python",
      "pygments_lexer": "ipython3",
      "version": "3.7.10"
    }
  },
  "nbformat": 4,
  "nbformat_minor": 0
}