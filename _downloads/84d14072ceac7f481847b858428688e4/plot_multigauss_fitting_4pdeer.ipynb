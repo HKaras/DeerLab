{
  "cells": [
    {
      "cell_type": "code",
      "execution_count": null,
      "metadata": {
        "collapsed": false
      },
      "outputs": [],
      "source": [
        "%matplotlib inline"
      ]
    },
    {
      "cell_type": "markdown",
      "metadata": {},
      "source": [
        "\nMulti-Gauss fit of a 4-pulse DEER signal\n========================================\n\nThis example showcases how to fit a simple 4-pulse DEER signal with\nbackground using a multi-Gauss model, i.e automatically optimizing the\nnumber of Gaussians in the model.\n"
      ]
    },
    {
      "cell_type": "code",
      "execution_count": null,
      "metadata": {
        "collapsed": false
      },
      "outputs": [],
      "source": [
        "import numpy as np\nimport matplotlib.pyplot as plt\nfrom deerlab import *"
      ]
    },
    {
      "cell_type": "markdown",
      "metadata": {},
      "source": [
        "Model function for a 4pDEER dipolar kernel \n------------------------------------------\nThe first step for this analysis requires the definition of a parametric dipolar kernel \nfor the description of a 4-pulse DEER experiment. \n\n"
      ]
    },
    {
      "cell_type": "code",
      "execution_count": null,
      "metadata": {
        "collapsed": false
      },
      "outputs": [],
      "source": [
        "def K4pdeer(par,t,r):\n\n    # Unpack parameters\n    lam,conc = par\n    # Simualte background\n    B = bg_hom3d(t,conc,lam)\n    # Generate dipolar kernel\n    K = dipolarkernel(t,r,lam,B)\n\n    return K"
      ]
    },
    {
      "cell_type": "markdown",
      "metadata": {},
      "source": [
        "Generating a dataset\n---------------------\n\n"
      ]
    },
    {
      "cell_type": "code",
      "execution_count": null,
      "metadata": {
        "collapsed": false
      },
      "outputs": [],
      "source": [
        "t = np.linspace(-0.25,4,300) # time axis, us\nr = np.linspace(2.5,4.5,300) # distance axis, nm\nparam0 = [3, 0.3, 0.2, 3.5, 0.3, 0.45, 3.9, 0.2, 0.20] # parameters for three-Gaussian model\nP = dd_gauss3(r,param0) # ground truth distance distribution\nlam = 0.3 # modulation depth\nconc = 250 # spin concentration, uM\nnoiselvl = 0.005 # noise level\n\n# Generate 4pDEER dipolar signal with noise\nnp.random.seed(0)\nV = K4pdeer([lam,conc],t,r)@P + whitegaussnoise(t,noiselvl)"
      ]
    },
    {
      "cell_type": "markdown",
      "metadata": {},
      "source": [
        "Multi-Gauss fitting\n-------------------\n\n"
      ]
    },
    {
      "cell_type": "code",
      "execution_count": null,
      "metadata": {
        "collapsed": false
      },
      "outputs": [],
      "source": [
        "# Parameter bounds:\n#     lambda conc   rmean fwhm \nlb = [1,  0.05] # distribution basis function lower bounds\nub = [20, 5] # distribution basis function upper bounds\nlbK = [0, 0.05] # kernel parameters lower bounds\nubK = [1, 1500] # kernel parameters upper bounds\n\n# Prepare the kernel model\nKmodel = lambda par: K4pdeer(par,t,r)\nNGauss = 5 # maximum number of Gaussians\n\n# Fit the kernel parameters with an optimized multi-Gauss distribution\nfit = fitmultimodel(V,Kmodel,r,dd_gauss,NGauss,'aic',lb,ub,lbK,ubK)\n#Extract results\nPfit = fit.P\nKparfit = fit.Kparam\nPuq = fit.Puncert\nparamuq = fit.paramUncert\nmetrics = fit.selfun\nPeval = fit.Pn\n\n# Get the time-domain fit\nK = Kmodel(Kparfit)\nVfit = K@Pfit\n\n# Confidence intervals of the fitted distance distribution\nPci95 = Puq.ci(95) # 95#-confidence interval\nPci50 = Puq.ci(50) # 50#-confidence interval"
      ]
    },
    {
      "cell_type": "markdown",
      "metadata": {},
      "source": [
        "Akaike weights\n-----------------------------------------------------------------------------\n When comparing different parametric models is always a good idea to look\n at the Akaike weights for each model. They basically tell you the\n probability of a model being the most optimal choice.\n\n"
      ]
    },
    {
      "cell_type": "code",
      "execution_count": null,
      "metadata": {
        "collapsed": false
      },
      "outputs": [],
      "source": [
        "# Compute the Akaike weights\ndAIC = metrics - min(metrics)\nAkaikeweights = 100*np.exp(-dAIC/2)/sum(np.exp(-dAIC/2))"
      ]
    },
    {
      "cell_type": "markdown",
      "metadata": {},
      "source": [
        "Plots\n\n"
      ]
    },
    {
      "cell_type": "code",
      "execution_count": null,
      "metadata": {
        "collapsed": false
      },
      "outputs": [],
      "source": [
        "plt.figure(figsize=(10,5))\n\nplt.subplot(3,2,1)\nplt.plot(t,V,'k.')\nplt.plot(t,Vfit,'b',linewidth=1.5)\nplt.plot(t,(1-Kparfit[0])*bg_hom3d(t,Kparfit[1],Kparfit[0]),'b--',linewidth=1.5)\nplt.tight_layout()\nplt.grid(alpha=0.3)\nplt.legend(['data','Vfit','Bfit'])\nplt.xlabel('t [$\\mu s$]')\nplt.ylabel('V(t)')\n\nplt.subplot(322)\nplt.plot(r,P,'k',linewidth=1.5)\nplt.plot(r,Pfit,'b',linewidth=1.5)\nplt.fill_between(r,Pci50[:,0],Pci50[:,1],color='b',linestyle='None',alpha=0.45)\nplt.fill_between(r,Pci95[:,0],Pci95[:,1],color='b',linestyle='None',alpha=0.25)\nplt.tight_layout()\nplt.grid(alpha=0.3)\nplt.legend(['truth','optimal fit','95%-CI'])\nplt.xlabel('r [nm]')\nplt.ylabel('P(r)')\n\nplt.subplot(323)\nplt.bar(np.arange(NGauss)+1,metrics + abs(min(metrics)),facecolor='b',alpha=0.6)\nplt.tight_layout()\nplt.grid(alpha=0.3)\nplt.ylabel('$\\Delta AIC$')\nplt.xlabel('Number of Gaussians')\n\nplt.subplot(325)\nplt.bar(np.arange(NGauss)+1,Akaikeweights,facecolor='b',alpha=0.6)\nplt.tight_layout()\nplt.grid(alpha=0.3)\nplt.ylabel('Akaike Weight [%]')\nplt.xlabel('Number of Gaussians')\n\nplt.subplot(3,2,(4,6))\nfor i in range(len(Peval)):\n    plt.plot(r,P + 2*i,'k',r,Peval[i] + 2*i,'b-',linewidth=1.5)\nplt.tight_layout()\nplt.grid(alpha=0.3)\nplt.xlabel('r [nm]')\nplt.ylabel('Number of Gaussians')\nplt.legend(['truth','fit'])"
      ]
    }
  ],
  "metadata": {
    "kernelspec": {
      "display_name": "Python 3",
      "language": "python",
      "name": "python3"
    },
    "language_info": {
      "codemirror_mode": {
        "name": "ipython",
        "version": 3
      },
      "file_extension": ".py",
      "mimetype": "text/x-python",
      "name": "python",
      "nbconvert_exporter": "python",
      "pygments_lexer": "ipython3",
      "version": "3.7.8"
    }
  },
  "nbformat": 4,
  "nbformat_minor": 0
}