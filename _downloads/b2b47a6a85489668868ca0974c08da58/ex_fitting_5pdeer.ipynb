{
  "cells": [
    {
      "cell_type": "code",
      "execution_count": null,
      "metadata": {
        "collapsed": false
      },
      "outputs": [],
      "source": [
        "%matplotlib inline"
      ]
    },
    {
      "cell_type": "markdown",
      "metadata": {},
      "source": [
        "\n# Basic fitting of a 5-pulse DEER signal, non-parametric distribution\n\nThis example shows how to fit a 5-pulse DEER signal with a non-parametric\ndistribution, a background, and all pathways parameters.\n"
      ]
    },
    {
      "cell_type": "code",
      "execution_count": null,
      "metadata": {
        "collapsed": false
      },
      "outputs": [],
      "source": [
        "import numpy as np\nimport matplotlib.pyplot as plt\nimport deerlab as dl"
      ]
    },
    {
      "cell_type": "markdown",
      "metadata": {},
      "source": [
        "## Load and pre-process data\n\nUncomment and use the following lines if you have experimental data:\n\nt,Vexp = dl.deerload('my\\path\\5pdeer_data.DTA')\nVexp = dl.correctphase(Vexp)\nt = dl.correctzerotime(Vexp,t)\n\nIn this example we will use simulated data instead.\n\n"
      ]
    },
    {
      "cell_type": "markdown",
      "metadata": {},
      "source": [
        "## Generate data\n\n"
      ]
    },
    {
      "cell_type": "code",
      "execution_count": null,
      "metadata": {
        "collapsed": false
      },
      "outputs": [],
      "source": [
        "# Define a function that generates synthetic data\ndef generatedata():\n    t = np.linspace(-0.1,6.5,200)      # time axis, \u00b5s\n    r = np.linspace(2,5,200)           # distance axis, nm\n    param0 = [3, 0.1, 0.2, 3.5, 0.1, 0.65, 3.8, 0.05, 0.15] # parameters for three-Gaussian model\n    P = dl.dd_gauss3(r,param0)         # model distance distribution\n    B = lambda t,lam: dl.bg_hom3d(t,300,lam) # background decay\n    exparam = [0.6, 0.3, 0.1, 3.2]     # parameters for 5pDEER experiment\n    pathways = dl.ex_5pdeer(exparam)   # pathways information\n    K = dl.dipolarkernel(t,r,pathways=pathways,bg=B)\n    Vexp = K@P + dl.whitegaussnoise(t,0.005,seed=1)\n    return t, Vexp\n\nt, Vexp = generatedata()"
      ]
    },
    {
      "cell_type": "markdown",
      "metadata": {},
      "source": [
        "Now, 5pDEER data contain 3 additional parameters compared to 4pDEER (due\nto the additional dipolar pathway present in the signal). However, the\nrefocusing time of the second dipolar pathway is very easy to constrain\nand strongly helps stabilizing the fit. \n\nThis pathway can even estimated visually from the signal or estimated from the \npulse sequence timings. Thus, we can strongly constraint this parameters while leaving the\npathway amplitudes pretty much unconstrained.\n\n\n"
      ]
    },
    {
      "cell_type": "code",
      "execution_count": null,
      "metadata": {
        "collapsed": false
      },
      "outputs": [],
      "source": [
        "# Define initial values and bounds for model parameters\nex_lb   = [ 0,   0,   0,  max(t)/2-1] # lower bounds\nex_ub   = [1, 1, 1, max(t)/2+1] # upper bounds\nex_par0 = [0.5, 0.5, 0.5, max(t)/2  ] # start values"
      ]
    },
    {
      "cell_type": "code",
      "execution_count": null,
      "metadata": {
        "collapsed": false
      },
      "outputs": [],
      "source": [
        "# Run the fit with a 5-pulse DEER signal model\nr = np.linspace(2,5,200)\nfit = dl.fitmodel(Vexp,t,r,'P',dl.bg_hom3d,dl.ex_5pdeer,\n                  ex_par0=ex_par0,ex_lb=ex_lb,ex_ub=ex_ub,verbose=True)\nfit.plot();"
      ]
    }
  ],
  "metadata": {
    "kernelspec": {
      "display_name": "Python 3",
      "language": "python",
      "name": "python3"
    },
    "language_info": {
      "codemirror_mode": {
        "name": "ipython",
        "version": 3
      },
      "file_extension": ".py",
      "mimetype": "text/x-python",
      "name": "python",
      "nbconvert_exporter": "python",
      "pygments_lexer": "ipython3",
      "version": "3.7.10"
    }
  },
  "nbformat": 4,
  "nbformat_minor": 0
}