{
  "cells": [
    {
      "cell_type": "code",
      "execution_count": null,
      "metadata": {
        "collapsed": false
      },
      "outputs": [],
      "source": [
        "%matplotlib inline"
      ]
    },
    {
      "cell_type": "markdown",
      "metadata": {},
      "source": [
        "\nFitting a mixed distance-distribution model\n===========================================\n\nBasic manipulation of parametric models and creating mixed models \nfor fitting distance distributions.\n"
      ]
    },
    {
      "cell_type": "code",
      "execution_count": null,
      "metadata": {
        "collapsed": false
      },
      "outputs": [],
      "source": [
        "import numpy as np\nimport matplotlib.pyplot as plt\nfrom deerlab import *"
      ]
    },
    {
      "cell_type": "markdown",
      "metadata": {},
      "source": [
        "Simulate the data\n-----------------\n\nLet's start by creating a simple dipolar evolution function (i.e. no background \nand full modulation depth) corresponding to a simple 4-pulse DEER signal.\n\n"
      ]
    },
    {
      "cell_type": "code",
      "execution_count": null,
      "metadata": {
        "collapsed": false
      },
      "outputs": [],
      "source": [
        "#Axis definition\nt = np.linspace(-0.5,4,350)\nr = np.linspace(2,6,200)\n\n# Distribution parameters\nrmean = 4.5\nwidth = 0.3\nchain = 4.3\npers = 10\namp = 0.35\n\n# Generate distribution\nP = dd_gauss(r,[rmean, width])\nP = amp*P + (1 - amp)*dd_wormchain(r,[chain, pers])\n# Normalize distribution\nP = P/sum(P)/np.mean(np.diff(r))\n# Generate dipolar evolution function\nnp.random.seed(0)\nK = dipolarkernel(t,r)\nV = K@P + whitegaussnoise(t,0.02)"
      ]
    },
    {
      "cell_type": "markdown",
      "metadata": {},
      "source": [
        "Generating a mixed parametric model\n-----------------------------------\n\nLet's say our intuiton (which, since we know the ground truth, is exact) on \nthe sample indicates that our distribution is a llinear combination of a Gaussian \ndistirbution and a worm-like chain model. While DeerAnalysis provides built-in \nparametric models for both models, we require a combination of both. \n\nFor such cases we can use the ``mixmodels`` function to create a custom mixed \nparametric model. It's syntax is rather simple, we just have to pass the desired \nparametric models as lambda functions. \n\n"
      ]
    },
    {
      "cell_type": "code",
      "execution_count": null,
      "metadata": {
        "collapsed": false
      },
      "outputs": [],
      "source": [
        "#Mix the models into new one\ngausswlc = mixmodels(dd_gauss,dd_wormchain)"
      ]
    },
    {
      "cell_type": "markdown",
      "metadata": {},
      "source": [
        "Our new model ``gausswlc`` will now describe our sought linear combination of \nboth parametric models. We can check the state of the model by retrieving its \ninformation\n\n"
      ]
    },
    {
      "cell_type": "code",
      "execution_count": null,
      "metadata": {
        "collapsed": false
      },
      "outputs": [],
      "source": [
        "#Get information on the mixed model\ninfo = gausswlc()"
      ]
    },
    {
      "cell_type": "markdown",
      "metadata": {},
      "source": [
        "We can see that the ``mixmodels`` function has introduced an ampitude parameters \nas the first parameter of the model. This parameters weights the contribution \nof each individual parametric model. We see also that this is followed by the \nparameters of the Gaussian model and finally with the parameters of the WLC \nmodel.\n\nOur model is ready, and since it was generated from built-in models we do \nnot need to specify any parameters initial values or boundary constraints. These \ncan, however, by re-defined if the built-in defaults are not appropiate (see \nother examples). \n\nSince we are dealing with a distance-domain model we require a dipolar kernel \nto transform our model into time-domain. Remember that our signal in this example \nis a dipolar evolution function, therefore we do not require anything else than \na very basic dipolar kernel.\n\n"
      ]
    },
    {
      "cell_type": "code",
      "execution_count": null,
      "metadata": {
        "collapsed": false
      },
      "outputs": [],
      "source": [
        "#Generate the dipolar evolution function kernel\nK = dipolarkernel(t,r)\n\n#Fit the model to the data\nVmodel = lambda par: K@gausswlc(r,par)\ninfo = gausswlc()\npar0 = info['Start'] # built-in start values\nlb = info['Lower'] # built-in lower bounds\nub = info['Upper'] # built-in upper bounds\nfit = fitparamodel(V,Vmodel,par0,lb,ub,MultiStart=10)\nfitpar = fit.param"
      ]
    },
    {
      "cell_type": "markdown",
      "metadata": {},
      "source": [
        "From the fitted parameter set ``fitpar`` we can now generate our fitted distance \ndistribution and the corresponding time-domain fit.\n\n"
      ]
    },
    {
      "cell_type": "code",
      "execution_count": null,
      "metadata": {
        "collapsed": false
      },
      "outputs": [],
      "source": [
        "#Calculate the fitted model\nPfit = gausswlc(r,fitpar)\nVfit = Vmodel(fitpar)"
      ]
    },
    {
      "cell_type": "markdown",
      "metadata": {},
      "source": [
        "Since we know both the ground truth for the distance distribution and the \ndipolar signal, let's see how our fit turned out.\n\n"
      ]
    },
    {
      "cell_type": "code",
      "execution_count": null,
      "metadata": {
        "collapsed": false
      },
      "outputs": [],
      "source": [
        "#Plot results\nplt.subplot(2,1,1)\nplt.plot(t,V,'k.',t,Vfit,'r',linewidth=1.5)\nplt.xlabel('t [$\\mu s$]')\nplt.ylabel('V(t)')\nplt.legend(['data','fit'])\n\nplt.subplot(2,1,2)\nplt.plot(r,P,'k',r,Pfit,'r',linewidth=1.5)\nplt.xlabel('r [nm]')\nplt.ylabel('P(r) [nm$^{-1}$]')\nplt.legend(['truth','fit'])"
      ]
    }
  ],
  "metadata": {
    "kernelspec": {
      "display_name": "Python 3",
      "language": "python",
      "name": "python3"
    },
    "language_info": {
      "codemirror_mode": {
        "name": "ipython",
        "version": 3
      },
      "file_extension": ".py",
      "mimetype": "text/x-python",
      "name": "python",
      "nbconvert_exporter": "python",
      "pygments_lexer": "ipython3",
      "version": "3.7.8"
    }
  },
  "nbformat": 4,
  "nbformat_minor": 0
}