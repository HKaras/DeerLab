{
  "cells": [
    {
      "cell_type": "code",
      "execution_count": null,
      "metadata": {
        "collapsed": false
      },
      "outputs": [],
      "source": [
        "%matplotlib inline"
      ]
    },
    {
      "cell_type": "markdown",
      "metadata": {},
      "source": [
        "\nExtracting Gaussian constraints from a parameter-free distribution fit\n=======================================================================\n\nHow to extract Gaussian constraints from a parameter-free fit.\n\nWhile parameter-free distance distributions are the most robust way to\nanalyze dipolar signals, many structural biology modelling programs\naccept only estimators such as mean distances or Gaussian constraints. \n\nThis example shows how to extract Gaussian constraints from a\nparameter-free fit of a dipolar signal and how to calculate the\ncorresponding uncertainty. \n"
      ]
    },
    {
      "cell_type": "code",
      "execution_count": null,
      "metadata": {
        "collapsed": false
      },
      "outputs": [],
      "source": [
        "import numpy as np\nimport matplotlib.pyplot as plt\nfrom deerlab import *"
      ]
    },
    {
      "cell_type": "code",
      "execution_count": null,
      "metadata": {
        "collapsed": false
      },
      "outputs": [],
      "source": [
        "# Generating a dataset\n# For this example we will simulate a simple 4pDEER signal\n\n# Parameters\nt = np.linspace(0,5,250)\nr = np.linspace(1,7,200)\nP = dd_gauss3(r,[4.5, 0.6, 0.4, 3, 0.4, 0.3, 4, 0.7, 0.5])\nlam = 0.3\nconc = 80; #uM\n\n# Simulate the signal\nBmodel = lambda t,lam: bg_hom3d(t,conc,lam)\nK = dipolarkernel(t,r,lam,Bmodel)\nnp.random.seed(0)\nV = K@P + whitegaussnoise(t,0.01)"
      ]
    },
    {
      "cell_type": "markdown",
      "metadata": {},
      "source": [
        "Fit the dipolar signal\n----------------------\nFirst, we need to fit the parameter-free distance distribution using ``fitsignal()``\nWe are only interested right now on the fitted distribution and the\ncorresponding uncertainty quantification, so we will ignore the rest of\nthe outputs.\n%%\n\n"
      ]
    },
    {
      "cell_type": "code",
      "execution_count": null,
      "metadata": {
        "collapsed": false
      },
      "outputs": [],
      "source": [
        "fit = fitsignal(V,t,r,'P',bg_exp,ex_4pdeer,display=True)\nPfit = fit.P"
      ]
    },
    {
      "cell_type": "markdown",
      "metadata": {},
      "source": [
        "Extract Gaussian constraints from the fit\n-----------------------------------------\nNext, we will fit a multi-Gauss distribution to the fitted parameter-free\ndistribution. We can do this by using the ``fitparamodel()`` function (in\nthis example, fitting a two-Gauss model). \n\nHowever, in order to get the correct uncertainty quantification, we need\nto specify the covariance matrix of the fitted distribution.\n``fitparamodel()`` can then use that information to propagate the error in\n``Pfit`` to the Gauss constraints that we then fit.\n\n"
      ]
    },
    {
      "cell_type": "markdown",
      "metadata": {},
      "source": [
        "Extract the uncertainty quantification of the fitted distribution...\n\n"
      ]
    },
    {
      "cell_type": "code",
      "execution_count": null,
      "metadata": {
        "collapsed": false
      },
      "outputs": [],
      "source": [
        "Pfit_uq = fit.Puncert\n# ...specifically its covariance matrix\nPfit_covmat = Pfit_uq.covmat"
      ]
    },
    {
      "cell_type": "markdown",
      "metadata": {},
      "source": [
        "Fit a 2-Gauss model to the fitted parameter-free distribution:\n\n    - ``parfit```: will contain the Gaussian constraints\n    - ``PGauss```: the corresponding distribution\n    - ``paruq```: the uncertainty quantification of our constraints\n\n"
      ]
    },
    {
      "cell_type": "code",
      "execution_count": null,
      "metadata": {
        "collapsed": false
      },
      "outputs": [],
      "source": [
        "Pmodel = lambda p: dd_gauss2(r,p)\n# Get information on the model\ninfo = dd_gauss2()\npar0 = info['Start']\nlb = info['Lower']\nub = info['Upper']\nfit = fitparamodel(Pfit,Pmodel,par0,lb,ub,covmatrix=Pfit_covmat)\nparfit = fit.param\nparuq = fit.uncertainty\nPGauss = dd_gauss2(r,parfit)\n\n# Extract the 95#-confidence intervals...\npar95 = paruq.ci(95)\n# ... and print the results of the constraints \nprint('\\nGaussian constraints:')\ninfo = dd_gauss2()\nfor i in range(len(parfit)):\n    print('  parfit[{}] = {:2.2f} ({:2.2f}, {:2.2f}) {}'.format(i,parfit[i],par95[i,0],par95[i,1],info['Parameters'][i]))\n\n# Now propagate the error of the constraints on the model\nlb = np.zeros_like(r) # Non-negativity constraint\nPGauss_uq = paruq.propagate(lambda par: dd_gauss2(r,par),lb)\nPGauss95 = PGauss_uq.ci(95)"
      ]
    },
    {
      "cell_type": "code",
      "execution_count": null,
      "metadata": {
        "collapsed": false
      },
      "outputs": [],
      "source": [
        "# Plot the fitted constraints model on top of the parameter-free case\nplt.plot(r,Pfit,'r',linewidth=1.5)\nplt.fill_between(r,Pfit_uq.ci(95)[:,0], Pfit_uq.ci(95)[:,1],facecolor='r',linestyle='None',alpha=0.2)\n\nplt.plot(r,PGauss,'b',linewidth=1.5)\nplt.fill_between(r,PGauss95[:,0], PGauss95[:,1],facecolor='b',linestyle='None',alpha=0.2)\n\nplt.xlabel('Distance [nm]')\nplt.ylabel('P [nm$^{-1}$]')\nplt.tight_layout()\nplt.grid(alpha=0.3)\nplt.legend(['Fit','95%-CI','2G-constraints','95%-CI'])\nplt.show()"
      ]
    }
  ],
  "metadata": {
    "kernelspec": {
      "display_name": "Python 3",
      "language": "python",
      "name": "python3"
    },
    "language_info": {
      "codemirror_mode": {
        "name": "ipython",
        "version": 3
      },
      "file_extension": ".py",
      "mimetype": "text/x-python",
      "name": "python",
      "nbconvert_exporter": "python",
      "pygments_lexer": "ipython3",
      "version": "3.7.8"
    }
  },
  "nbformat": 4,
  "nbformat_minor": 0
}