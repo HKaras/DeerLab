{
  "cells": [
    {
      "cell_type": "code",
      "execution_count": null,
      "metadata": {
        "collapsed": false
      },
      "outputs": [],
      "source": [
        "%matplotlib inline"
      ]
    },
    {
      "cell_type": "markdown",
      "metadata": {},
      "source": [
        "\nFitting a custom kernel model with a parameter-free distribution\n=================================================================\n\nHow the use of SNLLS to fit a kernel model and a parameter-free \ndistribution to a dipolar signal.\n"
      ]
    },
    {
      "cell_type": "code",
      "execution_count": null,
      "metadata": {
        "collapsed": false
      },
      "outputs": [],
      "source": [
        "import numpy as np\nimport matplotlib.pyplot as plt\nfrom deerlab import *"
      ]
    },
    {
      "cell_type": "markdown",
      "metadata": {},
      "source": [
        "Generating a dataset\n-----------------------------------------------------------------------------\n For this example we will simulate a simple 4pDEER signal\n\n"
      ]
    },
    {
      "cell_type": "code",
      "execution_count": null,
      "metadata": {
        "collapsed": false
      },
      "outputs": [],
      "source": [
        "t = np.linspace(-0.5,5,300)\nr = np.linspace(2,6,200)\n\n# Generate ground truth and input signal\nP = dd_gauss2(r,[3.5, 0.4, 0.4, 4.5, 0.7, 0.6])\nlam = 0.36\nc0 = 250 #uM\nB = bg_hom3d(t,c0,lam)\nK = dipolarkernel(t,r,lam,B)\nV = K@P  + whitegaussnoise(t,0.01)"
      ]
    },
    {
      "cell_type": "markdown",
      "metadata": {},
      "source": [
        "Fitting via SNLLS\n------------------\n Now in order to fit a non-linear dipolar kernel model ``Kmodel`` and a\n linear parameter-free distance distribution ``Pfit`` simultaneously, we\n can use the separable non-linear least squares ``SNLLS`` method. \n\n First we define the function that contains the model for the dipolar kernel we want to fit. It \n is a non-linear functon that accepts the parameter array ``p`` and returns the \n fitted dipolar kernel ``K``. The linear parameters, in this case ``P``, are\n computed by solving a Tikhonov-regularized linear LSQ problem automatically in the ``snlls`` function. \n\n"
      ]
    },
    {
      "cell_type": "code",
      "execution_count": null,
      "metadata": {
        "collapsed": false
      },
      "outputs": [],
      "source": [
        "def Kmodel(p):\n\n    # Unpack parameters\n    lam,c0 = p\n    # Get background\n    B = bg_hom3d(t,c0,lam)\n    # Generate 4pDEER kernel\n    K = dipolarkernel(t,r,lam,B)\n\n    return K"
      ]
    },
    {
      "cell_type": "markdown",
      "metadata": {},
      "source": [
        "Next, there are two different parameter sets being fitted at the same time:\nlinear and non-linear parameters. Therefore, the lower/upper bounds for\nthe two sets need (or can) be specified.\n\n"
      ]
    },
    {
      "cell_type": "code",
      "execution_count": null,
      "metadata": {
        "collapsed": false
      },
      "outputs": [],
      "source": [
        "#--------------------------\n# Non-linear parameters:\n#--------------------------\n#       lam  c0\n#--------------------------\npar0 = [0.5, 50 ] # Start values\nlb   = [ 0, 0.05] # lower bounds\nub   = [ 1, 1000] # upper bounds\n\n#--------------------------\n# Linear parameters: \n#--------------------------\n#          Pfit\n#--------------------------\nlbl = np.zeros_like(r) # Non-negativity constraint of P\nubl = [] # Unconstrained upper boundary\n\n# Run SNLLS optimization\nfit = snlls(V,Kmodel,par0,lb,ub,lbl,ubl)\nparfit = fit.nonlin\nPfit = fit.lin\nparuq = fit.uncertainty\n\n# Get non-linear parameters uncertainty\nparam95 = paruq.ci(95,'nonlin')  #  95#-confidence interval\n\n# Get linear parameters (distribution) uncertainty\nPci50 = paruq.ci(50,'lin') #  50#-confidence interval\nPci95 = paruq.ci(95,'lin') #  95#-confidence interval\n\n# Print result\nprint('lambda = {:.2f}({:.2f}-{:.2f})'.format(parfit[0],param95[0,0],param95[0,1]))\nprint('c0 = {:.2f}({:.2f}-{:.2f})uM'.format(parfit[1],param95[1,0],param95[1,1]))\n\n# Get fitted model\nKfit = Kmodel(parfit)\nVfit = Kfit@Pfit"
      ]
    },
    {
      "cell_type": "markdown",
      "metadata": {},
      "source": [
        "Plots\n------\n\n"
      ]
    },
    {
      "cell_type": "code",
      "execution_count": null,
      "metadata": {
        "collapsed": false
      },
      "outputs": [],
      "source": [
        "plt.subplot(211)\nplt.plot(t,V,'k.',t,Vfit,'b')\nplt.grid(alpha=0.3)\nplt.xlabel('t [$\\mu s$]')\nplt.ylabel('V(t)')\nplt.legend(['data','fit'])\n\nplt.subplot(212)\nplt.plot(r,P,'k',r,Pfit,'b')\nplt.fill_between(r,Pci50[:,0],Pci50[:,1],color='b',alpha=0.4,linestyle='None')\nplt.fill_between(r,Pci95[:,0],Pci95[:,1],color='b',alpha=0.2,linestyle='None')\nplt.grid(alpha=0.3)\nplt.xlabel('r [nm]')\nplt.ylabel('P(r) [nm$^{-1}$]')\nplt.legend(['truth','fit','50%-CI','95%-CI'])"
      ]
    }
  ],
  "metadata": {
    "kernelspec": {
      "display_name": "Python 3",
      "language": "python",
      "name": "python3"
    },
    "language_info": {
      "codemirror_mode": {
        "name": "ipython",
        "version": 3
      },
      "file_extension": ".py",
      "mimetype": "text/x-python",
      "name": "python",
      "nbconvert_exporter": "python",
      "pygments_lexer": "ipython3",
      "version": "3.7.8"
    }
  },
  "nbformat": 4,
  "nbformat_minor": 0
}