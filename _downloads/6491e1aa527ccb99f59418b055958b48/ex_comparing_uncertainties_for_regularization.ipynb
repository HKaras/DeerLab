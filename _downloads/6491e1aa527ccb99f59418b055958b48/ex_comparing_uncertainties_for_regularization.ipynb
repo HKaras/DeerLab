{
  "cells": [
    {
      "cell_type": "code",
      "execution_count": null,
      "metadata": {
        "collapsed": false
      },
      "outputs": [],
      "source": [
        "%matplotlib inline"
      ]
    },
    {
      "cell_type": "markdown",
      "metadata": {},
      "source": [
        "\n# Comparing confidence intervals for regularization results\n\nA simpe example of uncertainty estimation for Tikhonov regularization \nresults. The example will cover the use of confidence intervals\nobtained from curvature matrices and boostrap analysis.\n"
      ]
    },
    {
      "cell_type": "code",
      "execution_count": null,
      "metadata": {
        "collapsed": false
      },
      "outputs": [],
      "source": [
        "import numpy as np \nimport matplotlib.pyplot as plt\nimport deerlab as dl"
      ]
    },
    {
      "cell_type": "markdown",
      "metadata": {},
      "source": [
        "## Simulate the data\n\nLet's start by generating some data.\n\n"
      ]
    },
    {
      "cell_type": "code",
      "execution_count": null,
      "metadata": {
        "collapsed": false
      },
      "outputs": [],
      "source": [
        "t = np.linspace(-0.4,3.5,160)           # time axis, \u00b5s\nr = np.linspace(2,5,160)                # distance axis, nm\nP = dl.dd_gauss2(r,[3, 0.1, 0.6, 3.5, 0.2, 0.4]) # model distribution\nlam = 0.32                              # modulatio depth\nB = dl.bg_strexp(t,[0.04,1])        # background decay\nK = dl.dipolarkernel(t,r,mod=lam,bg=B)         # dipolar kernel matrix\nV = K@P + dl.whitegaussnoise(t,0.01)    # signal with added noise"
      ]
    },
    {
      "cell_type": "markdown",
      "metadata": {},
      "source": [
        "For the sake of simplicity, in this examples we will assume that we know the \nbackground exactly. Our first step is to generate the proper dipolar kernel.\n\n## Covariance-based confidence intervals\n\nFit a Tikhonov model to the data, using AIC to select the regularization parameter\n\n"
      ]
    },
    {
      "cell_type": "code",
      "execution_count": null,
      "metadata": {
        "collapsed": false
      },
      "outputs": [],
      "source": [
        "fit = dl.fitregmodel(V,K,r,'tikhonov','aic')\nPfit = fit.P        # fitted distribution\nVfit = fit.V        # fitted DEER trace\n\n# curvature matrix confidence intervals for distribution\nPci95_cm = fit.Puncert.ci(95)\nPci50_cm = fit.Puncert.ci(50)"
      ]
    },
    {
      "cell_type": "markdown",
      "metadata": {},
      "source": [
        "## Bootstrapped confidence intervals\n\nNow we calculate the bootstrap confidence intervals. For this, we\nneed to define a function that takes a signal as input and returns\nthe outputs of interest (``Pfit`` in our example).\n\n"
      ]
    },
    {
      "cell_type": "code",
      "execution_count": null,
      "metadata": {
        "collapsed": false
      },
      "outputs": [],
      "source": [
        "def mybootfcn(V):\n    fit = dl.fitregmodel(V,K,r,'tikhonov','aic')\n    return fit.P\n\n# Launch bootstrapping\nNsamples = 100\nbooci = dl.bootan(mybootfcn,V,Vfit,Nsamples)\nPci95_bs = booci.ci(95)\nPci50_bs = booci.ci(50)"
      ]
    },
    {
      "cell_type": "markdown",
      "metadata": {},
      "source": [
        "By plotting the results, one can see that the bootstrapped confidence intervals \nare narrower in comparison to the ones obtained via the curvature\nmatrices. This is because bootstrapping takes the nonnegativity constraint of P into\naccount, whereas the curvature matrix CIs do not. \n\n"
      ]
    },
    {
      "cell_type": "code",
      "execution_count": null,
      "metadata": {
        "collapsed": false
      },
      "outputs": [],
      "source": [
        "fig, ax = plt.subplots(2,1,sharey=True)\nax[0].plot(r,Pfit,'tab:red',linewidth=1)\nax[0].fill_between(r,Pci50_cm[:,0],Pci50_cm[:,1],color='tab:red',linestyle='None',alpha=0.45)\nax[0].fill_between(r,Pci95_cm[:,0],Pci95_cm[:,1],color='tab:red',linestyle='None',alpha=0.25)\n\nax[1].plot(r,Pfit,'tab:blue',linewidth=1)\nax[1].fill_between(r,Pci50_bs[:,0],Pci50_bs[:,1],color='tab:blue',linestyle='None',alpha=0.45)\nax[1].fill_between(r,Pci95_bs[:,0],Pci95_bs[:,1],color='tab:blue',linestyle='None',alpha=0.25)\n\nax[0].grid(alpha=0.5)\nax[0].set_xlabel('r (nm)')\nax[0].set_ylabel('P (nm\u207b\u00b9)')\nax[0].set_title('Curvature Matrix CI')\nax[0].legend(['Truth','Fit','50%-CI','95%-CI'])\n\nax[1].grid(alpha=0.5)\nax[1].set_xlabel('r (nm)')\nax[1].set_ylabel('P (nm\u207b\u00b9)')\nax[1].set_title('Bootstrapped CI')\nax[1].legend(['Truth','Fit','50%-CI','95%-CI'])\nplt.tight_layout()\nplt.show()"
      ]
    }
  ],
  "metadata": {
    "kernelspec": {
      "display_name": "Python 3",
      "language": "python",
      "name": "python3"
    },
    "language_info": {
      "codemirror_mode": {
        "name": "ipython",
        "version": 3
      },
      "file_extension": ".py",
      "mimetype": "text/x-python",
      "name": "python",
      "nbconvert_exporter": "python",
      "pygments_lexer": "ipython3",
      "version": "3.7.10"
    }
  },
  "nbformat": 4,
  "nbformat_minor": 0
}