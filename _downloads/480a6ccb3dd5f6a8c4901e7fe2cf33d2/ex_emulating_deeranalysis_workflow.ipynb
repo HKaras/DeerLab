{
  "cells": [
    {
      "cell_type": "code",
      "execution_count": null,
      "metadata": {
        "collapsed": false
      },
      "outputs": [],
      "source": [
        "%matplotlib inline"
      ]
    },
    {
      "cell_type": "markdown",
      "metadata": {},
      "source": [
        "\n# Emulating the DeerAnalysis workflow\n\nThis example shows how to reproduce the type of workflow implemented in\nDeerAnalysis, using DeerLab functions. This kind of analysis workflow is \noutdated and not recommended for routine or accurate data analysis.\n"
      ]
    },
    {
      "cell_type": "code",
      "execution_count": null,
      "metadata": {
        "collapsed": false
      },
      "outputs": [],
      "source": [
        "import numpy as np\nimport matplotlib.pyplot as plt\nimport deerlab as dl"
      ]
    },
    {
      "cell_type": "markdown",
      "metadata": {},
      "source": [
        "## Generating a dataset\n\n For this example we will simulate a simple 4pDEER signal\n\n"
      ]
    },
    {
      "cell_type": "code",
      "execution_count": null,
      "metadata": {
        "collapsed": false
      },
      "outputs": [],
      "source": [
        "# Parameters\nt = np.linspace(-0.1,3,250) # \u00b5s\nrtrue = np.linspace(1,7,200) # nm\nPtrue = dl.dd_gauss3(rtrue,[4.5, 0.35, 0.4, 3, 0.25, 0.3, 4, 0.4, 0.5])\nlam = 0.3\nconc = 180 # \u00b5M\n\n# Simulate an experimental signal with some scale and phase\nbg = lambda t, lam: dl.bg_hom3d(t,conc,lam)\nK = dl.dipolarkernel(t,rtrue,mod=lam,bg=bg)\nV = K@Ptrue*np.exp(1j*np.pi/16) # add a phase shift \nrnoise = dl.whitegaussnoise(t,0.01,seed=1) # real-component noise \ninoise = 1j*dl.whitegaussnoise(t,0.01,seed=2) # imaginary-component noise \nV = V + rnoise + inoise # complex-valued noisy signal\nV = V*3e6 # add an arbitrary amplitude scale\n\n\nplt.figure()\nplt.plot(t,V.real,'.',t,V.imag,'.'),\nplt.xlabel('t (\u00b5s)')\nplt.ylabel('V')\nplt.grid(alpha=0.3)\nplt.legend(['real','imag'])\nplt.tight_layout()\nplt.show()"
      ]
    },
    {
      "cell_type": "markdown",
      "metadata": {},
      "source": [
        "## DeerAnalysis workflow\n\n\n"
      ]
    },
    {
      "cell_type": "code",
      "execution_count": null,
      "metadata": {
        "collapsed": false
      },
      "outputs": [],
      "source": [
        "# Pre-processing\nV = dl.correctphase(V)\nt = dl.correctzerotime(V,t)\nV = V/max(V)\n\n# Distance axis estimation\nr = dl.time2dist(t)\n\n# Background fit\ntstart = 1.0 # background fit start, in \u00b5s\nmask = t>tstart\ndef Bmodel(par):\n    lam,kappa,d = par # unpack parameters\n    B = (1-lam)*dl.bg_strexp(t[mask],[kappa,d])\n    return B\n\n#       lam     k   d\npar0 = [0.5,   0.5, 3]\nlb   = [0.1,    0,  1]\nub   = [1,      5,  6]\nfit = dl.fitparamodel(V[mask],Bmodel,par0,lb,ub,fitscale=False)\n\nlamfit,kappa,d = fit.param\nBfit = dl.bg_strexp(t,[kappa,d])\n\n# Background \"correction\" by division\nVcorr = (V/Bfit - 1 + lamfit)/lamfit\n\n# Tikhonov regularization using the L-curve criterion\nK = dl.dipolarkernel(t,r)\nfit = dl.fitregmodel(Vcorr,K,r,'tikhonov','lr',)\nPfit = fit.P"
      ]
    },
    {
      "cell_type": "markdown",
      "metadata": {},
      "source": [
        "## Plots\nsphinx_gallery_thumbnail_number = 2\n\n"
      ]
    },
    {
      "cell_type": "code",
      "execution_count": null,
      "metadata": {
        "collapsed": false
      },
      "outputs": [],
      "source": [
        "plt.figure(figsize=[8,8])\nplt.subplot(311)\nplt.plot(t,V,'.',color='grey')\nplt.plot(t,(1-lamfit)*Bfit,'r--',linewidth=1.5)\nplt.xlabel('t (\u00b5s)')\nplt.ylabel('V')\nplt.legend(['data','$(1-\\lambda)B_{fit}$'])\n\nplt.subplot(312)\nplt.plot(t,Vcorr,'.',color='grey')\nplt.plot(t,K@Pfit,'r',linewidth=1.5)\nplt.xlabel('t (\u00b5s)')\nplt.ylabel('V')\nplt.legend(['corrected data','fit'])\n\nplt.subplot(313)\nplt.plot(rtrue,Ptrue,'k',r,Pfit,'r',linewidth=1.5)\nplt.xlabel('r (nm)')\nplt.ylabel('P (nm\u207b\u00b9)')\nplt.legend(['truth','fit'])\nplt.tight_layout()\nplt.show()"
      ]
    },
    {
      "cell_type": "markdown",
      "metadata": {},
      "source": [
        "Note that these results do not include any confidence intervals. DeerAnalysis based its \nuncertainty estimation in a so-called \"validation\" tool. That tool does not provide true confidence intervals\nand therefore its use is disnecouraged in favor of any of the uncertainty quantification tools provided in DeerLab. \nThe \"validation\" tool of DeerAnalysis cannot be reproduced with DeerLab without implementing it manually. \n\n"
      ]
    }
  ],
  "metadata": {
    "kernelspec": {
      "display_name": "Python 3",
      "language": "python",
      "name": "python3"
    },
    "language_info": {
      "codemirror_mode": {
        "name": "ipython",
        "version": 3
      },
      "file_extension": ".py",
      "mimetype": "text/x-python",
      "name": "python",
      "nbconvert_exporter": "python",
      "pygments_lexer": "ipython3",
      "version": "3.7.10"
    }
  },
  "nbformat": 4,
  "nbformat_minor": 0
}