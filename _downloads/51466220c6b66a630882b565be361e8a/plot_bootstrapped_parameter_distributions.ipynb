{
  "cells": [
    {
      "cell_type": "code",
      "execution_count": null,
      "metadata": {
        "collapsed": false
      },
      "outputs": [],
      "source": [
        "%matplotlib inline"
      ]
    },
    {
      "cell_type": "markdown",
      "metadata": {},
      "source": [
        "\nBootstrapped distributions of fit parameters\n============================================\n\nThis example shows how to generate probability density functions of\nvalues for fit parameters using bootstrapping, showcased for 5pDEER.\n"
      ]
    },
    {
      "cell_type": "code",
      "execution_count": null,
      "metadata": {
        "collapsed": false
      },
      "outputs": [],
      "source": [
        "import numpy as np\nimport matplotlib.pyplot as plt\nfrom deerlab import *"
      ]
    },
    {
      "cell_type": "markdown",
      "metadata": {},
      "source": [
        "Generate data\n-------------\n\n"
      ]
    },
    {
      "cell_type": "code",
      "execution_count": null,
      "metadata": {
        "collapsed": false
      },
      "outputs": [],
      "source": [
        "t = np.linspace(-0.1,6.5,100)      # time axis, us\nr = np.linspace(1.5,6,100)         # distance axis, ns\nparam0 = [3, 0.3, 0.2, 3.5, 0.3, 0.65, 3.8, 0.2, 0.15] # parameters for three-Gaussian model\nP = dd_gauss3(r,param0)         # model distance distribution\nB = lambda t,lam: bg_hom3d(t,300,lam) # background decay\nexparam = [0.6, 0.3, 0.1, 3.2]     # parameters for 5pDEER experiment\npathinfo = ex_5pdeer(exparam)   # pathways information\n\nnp.random.seed(0)\nK = dipolarkernel(t,r,pathinfo,B)\nVexp = K@P + whitegaussnoise(t,0.01)"
      ]
    },
    {
      "cell_type": "markdown",
      "metadata": {},
      "source": [
        "Analysis\n--------\n\n\n"
      ]
    },
    {
      "cell_type": "code",
      "execution_count": null,
      "metadata": {
        "collapsed": false
      },
      "outputs": [],
      "source": [
        "def fitroutine(V):\n\n    # Set boundaries for the fit parameters (see DL_fitting_5pdeer.m)\n    ex_lb   = [ 0,   0,   0,  max(t)/2-1] # lower bounds\n    ex_ub   = [10,  10,  10,  max(t)/2+1] # upper bounds\n    ex_par0 = [0.5, 0.5, 0.5, max(t)/2  ] # start values\n    ub = [[],[],ex_ub]\n    lb = [[],[],ex_lb]\n    par0 = [[],[],ex_par0]\n    # When running the fit, since we are only interested in the parameters we'll ignore\n    # the rest (otherwise the ``Bfit``,``Pfit``,etc. could be bootstrapped as well) \n    # We need the Vfit to pass it to bootan as well, so we'll request that one too.\n    fit = fitsignal(V,t,r,'P',bg_hom3d,ex_5pdeer,par0,lb,ub,uqanalysis=False)\n    Vfit = fit.V\n    exparam = fit.exparam\n    exparam[0:3] /=sum(exparam[0:3])\n    bgparam = fit.bgparam\n\n    return exparam,bgparam,Vfit\n\n\n# Run the fit once as usual, to check that the model fits the data\nexparfit,bgparfit,Vfit = fitroutine(Vexp)\n\n# Bootstrapping with 100 samples\nbootuq = bootan(fitroutine,Vexp,Vfit,100)\n\n# Extract the uncertainty quantification for the parameters\nexparam_uq = bootuq[0]\nbgparam_uq = bootuq[1]\n\n# Extract distributions for the experiment parameters\nLam0_values,Lam0_pdf = exparam_uq.pardist(0)\nlam1_values,lam1_pdf = exparam_uq.pardist(1)\nlam2_values,lam2_pdf = exparam_uq.pardist(2)\nT02_values,T02_pdf     = exparam_uq.pardist(3)\n\n# Extract distributions for the background parameters\nconc_values,conc_pdf = bgparam_uq.pardist(0)"
      ]
    },
    {
      "cell_type": "markdown",
      "metadata": {},
      "source": [
        "Plot\n--------\n\n"
      ]
    },
    {
      "cell_type": "code",
      "execution_count": null,
      "metadata": {
        "collapsed": false
      },
      "outputs": [],
      "source": [
        "plt.figure(figsize=(15,11))\n\nplt.subplot(321)\nplt.fill_between(Lam0_values,Lam0_pdf,color='b',alpha=0.4)\nplt.vlines(exparfit[0],0,max(Lam0_pdf),colors='k',linestyles='dashed',linewidth=2)\nplt.vlines(exparam[0],0,max(Lam0_pdf),colors='r',linestyles='dashed',linewidth=2)\nplt.xlabel('$\\Lambda_0$')\nplt.ylabel('PDF')\nplt.legend(['Bootstrapped','Fit','Truth'])\n\nplt.subplot(322)\nplt.fill_between(lam1_values,lam1_pdf,color='b',alpha=0.4)\nplt.vlines(exparfit[1],0,max(lam1_pdf),colors='k',linestyles='dashed',linewidth=2)\nplt.vlines(exparam[1],0,max(lam1_pdf),colors='r',linestyles='dashed',linewidth=2)\nplt.xlabel('$\\lambda_1$')\nplt.ylabel('PDF')\n\nplt.subplot(323)\nplt.fill_between(lam2_values,lam2_pdf,color='b',alpha=0.4)\nplt.vlines(exparfit[2],0,max(lam2_pdf),colors='k',linestyles='dashed',linewidth=2)\nplt.vlines(exparam[2],0,max(lam2_pdf),colors='r',linestyles='dashed',linewidth=2)\nplt.xlabel('$\\lambda_2$')\nplt.ylabel('PDF')\n\nplt.subplot(324)\nplt.fill_between(T02_values,T02_pdf,color='b',alpha=0.4)\nplt.vlines(exparfit[3],0,max(T02_pdf),colors='k',linestyles='dashed',linewidth=2)\nplt.vlines(exparam[3],0,max(T02_pdf),colors='r',linestyles='dashed',linewidth=2)\nplt.xlabel('$T_{0,2}$ [$\\mu s$]')\nplt.ylabel('PDF')\n\nplt.subplot(325)\nplt.fill_between(conc_values,conc_pdf,color='b',alpha=0.4)\nplt.vlines(bgparfit[0],0,max(conc_pdf),colors='k',linestyles='dashed',linewidth=2)\nplt.vlines(300,0,max(conc_pdf),colors='r',linestyles='dashed',linewidth=2)\nplt.xlabel('Spin conc. [$\\mu M$]')\nplt.ylabel('PDF')"
      ]
    }
  ],
  "metadata": {
    "kernelspec": {
      "display_name": "Python 3",
      "language": "python",
      "name": "python3"
    },
    "language_info": {
      "codemirror_mode": {
        "name": "ipython",
        "version": 3
      },
      "file_extension": ".py",
      "mimetype": "text/x-python",
      "name": "python",
      "nbconvert_exporter": "python",
      "pygments_lexer": "ipython3",
      "version": "3.7.8"
    }
  },
  "nbformat": 4,
  "nbformat_minor": 0
}