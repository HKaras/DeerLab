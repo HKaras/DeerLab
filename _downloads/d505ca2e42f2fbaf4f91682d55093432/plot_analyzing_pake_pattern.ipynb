{
  "cells": [
    {
      "cell_type": "code",
      "execution_count": null,
      "metadata": {
        "collapsed": false
      },
      "outputs": [],
      "source": [
        "%matplotlib inline"
      ]
    },
    {
      "cell_type": "markdown",
      "metadata": {},
      "source": [
        "\n# Analyzing the Pake pattern of a dipolar signal\n\nA very basic example for displaying the dipolar spectrum (Pake pattern) of a given dipolar signal.\n"
      ]
    },
    {
      "cell_type": "code",
      "execution_count": null,
      "metadata": {
        "collapsed": false
      },
      "outputs": [],
      "source": [
        "import numpy as np\nimport matplotlib.pyplot as plt\nimport deerlab as dl"
      ]
    },
    {
      "cell_type": "markdown",
      "metadata": {},
      "source": [
        "## Generate a dipolar signal\nLet's start by simulating a dipolar signal with some background and noise.\n\n"
      ]
    },
    {
      "cell_type": "markdown",
      "metadata": {},
      "source": [
        "Prepare components\n\n"
      ]
    },
    {
      "cell_type": "code",
      "execution_count": null,
      "metadata": {
        "collapsed": false
      },
      "outputs": [],
      "source": [
        "t = np.linspace(0,5,400)   # \u00b5s\nr = np.linspace(2,5,100)   # nm\nP = dl.dd_gauss2(r,[3.5, 0.1, 0.2, 4, 0.05, 0.8])\nB = dl.bg_exp(t,0.2)\nlam = 0.3\nK = dl.dipolarkernel(t,r,lam,B)\nV = K@P + dl.whitegaussnoise(t,0.005,seed=0)\n\n# Plot\nplt.plot(t,V,'k.')\nplt.grid(alpha=0.3)\nplt.xlabel('Time [$\\\\mu s$]')\nplt.ylabel('V(t)')\nplt.tight_layout()\nplt.show()"
      ]
    },
    {
      "cell_type": "markdown",
      "metadata": {},
      "source": [
        "## Prepare the signal\nSince experimental dipolar signals contain the background, this must be fitted \nremoved prior to Fourier transform.\n\nFirst we proceed to fit the background function using some time-domain parametric \nmodel. In this example we will use an exponential function (``bg_exp``). \nUsing the ``fitparamodel`` function we obtain the fitted background as well as \nthe fitted modulation depth.\n\n"
      ]
    },
    {
      "cell_type": "code",
      "execution_count": null,
      "metadata": {
        "collapsed": false
      },
      "outputs": [],
      "source": [
        "tstart = 3 # Time to start fitting background, in \u00b5s\nmask = t>tstart\n# Model for the background component (1-lambda)*B\ndef Bmodel(par):\n    lam,kappa = par \n    B = (1 - lam)*dl.bg_exp(t[mask],kappa)\n    return B\n\n# Fit the background function\nfit = dl.fitsignal(V,t,r,'P',dl.bg_exp,dl.ex_4pdeer,uqanalysis=False)\nBfit = fit.B\nlam = fit.exparam\nkappa = fit.bgparam"
      ]
    },
    {
      "cell_type": "markdown",
      "metadata": {},
      "source": [
        "Now we can use these fitted parameters to isolate the dipolar evolution function \nfrom the primary data. Removal of the background via division leads to a noise \nincrease at later times and thus to an approximation ``Vcorr`` of the real dipolar \nevolution function.\n\n"
      ]
    },
    {
      "cell_type": "code",
      "execution_count": null,
      "metadata": {
        "collapsed": false
      },
      "outputs": [],
      "source": [
        "# \"Correct\" for the background and modulation depth\nVcorr = (V/Bfit - (1 - lam))/lam\n\nplt.plot(t,Vcorr,'k.')\nplt.grid(alpha=0.3)\nplt.xlabel('Time [$\\\\mu s$]')\nplt.ylabel('V(t)')\nplt.tight_layout()\nplt.show()"
      ]
    },
    {
      "cell_type": "markdown",
      "metadata": {},
      "source": [
        "## Computing the dipolar spectrum\n\nNow that the signal has the appropiate structure for Fourier transform it, \nwe can call the ``fftspec`` function to obtain the dipolar spectrum.\n\n"
      ]
    },
    {
      "cell_type": "code",
      "execution_count": null,
      "metadata": {
        "collapsed": false
      },
      "outputs": [],
      "source": [
        "# Compute spectrum\nnu,pake = dl.fftspec(Vcorr,t,apodization=False)\n \n # %% [markdown]\n# In order to avoid truncation ripples in the Fourier spectrum and at the same \n# time to compensate for the increase of noise, we recommend the use of apodization \n# using the appropiate option in ``fftspec``."
      ]
    },
    {
      "cell_type": "markdown",
      "metadata": {},
      "source": [
        "Compute spectrum with apodization\n\n"
      ]
    },
    {
      "cell_type": "code",
      "execution_count": null,
      "metadata": {
        "collapsed": false
      },
      "outputs": [],
      "source": [
        "nuapo,pakeapo = dl.fftspec(Vcorr,t,apodization=False,mode='real')\n\n# Plot results\nplt.plot(nu,pake,'k',nuapo,pakeapo,'b',linewidth=1.5)\nplt.grid(alpha=0.3)\nplt.xlim([-10, 10])\nplt.xlabel('Frequency [MHz]')\nplt.ylabel('Intensity [a.u.]')\nplt.legend(['Raw','Apodized'])\nplt.tight_layout()\nplt.show()"
      ]
    },
    {
      "cell_type": "markdown",
      "metadata": {},
      "source": [
        "We do not need to worry about the zero-filling since ``fftspec`` takes care \nof setting it to twice the amount of points in the signal, to preserve all information. \nAdding more points will artificially increase the resolution of the Pake pattern.\nThe improvement will only be visual as no further information can be gained \nfrom additional zero-filling.\n\n"
      ]
    }
  ],
  "metadata": {
    "kernelspec": {
      "display_name": "Python 3",
      "language": "python",
      "name": "python3"
    },
    "language_info": {
      "codemirror_mode": {
        "name": "ipython",
        "version": 3
      },
      "file_extension": ".py",
      "mimetype": "text/x-python",
      "name": "python",
      "nbconvert_exporter": "python",
      "pygments_lexer": "ipython3",
      "version": "3.7.9"
    }
  },
  "nbformat": 4,
  "nbformat_minor": 0
}