{
  "cells": [
    {
      "cell_type": "code",
      "execution_count": null,
      "metadata": {
        "collapsed": false
      },
      "outputs": [],
      "source": [
        "%matplotlib inline"
      ]
    },
    {
      "cell_type": "markdown",
      "metadata": {},
      "source": [
        "\n# Analyzing pseudo-titration (dose-response) curves with non-parametric distributions \n\nHow to use separable non-linear least squares (SNLLS)\nto fit a pseudo-titration curve to multiple DEER datsets, using\nnon-parametric distance distributions.\n"
      ]
    },
    {
      "cell_type": "code",
      "execution_count": null,
      "metadata": {
        "collapsed": false
      },
      "outputs": [],
      "source": [
        "import numpy as np\nimport matplotlib.pyplot as plt\nimport deerlab as dl"
      ]
    },
    {
      "cell_type": "markdown",
      "metadata": {},
      "source": [
        "## Generating multiple datasets\n First, let's prepare the chemical desciption of the problem. In this example we will\n simulate a protein system in their states A (natural) and B (changed upon addition\n of a ligand L) given by the chemical equilibrium  A + L <-> B.\n\n"
      ]
    },
    {
      "cell_type": "code",
      "execution_count": null,
      "metadata": {
        "collapsed": false
      },
      "outputs": [],
      "source": [
        "def chemicalequilibrium(Kdis,L):\n    \"\"\"Prepare equilibrium of type: A + L <-> B\"\"\"\n    Ctot = 1 # total protein concentration, \u00b5M\n\n    # # Get fraction of state B\n    Kb = 1/Kdis\n    xB = np.zeros_like(L)\n    for q in range(len(L)):\n        xB_ = np.roots([Kb, -(Kb*L[q] + Kb*Ctot + 1), Kb*L[q]])\n        try:\n            xB[q] = xB_[(xB_<=1) & (xB_>=0)]\n        except:\n            xB[q] = np.minimum(1,np.maximum(0,xB_[0]))    \n    # Get fraction of state A\n    xA = 1 - xB\n\n    return xA,xB"
      ]
    },
    {
      "cell_type": "markdown",
      "metadata": {},
      "source": [
        "Next, we define the dipolar kernel model as the non-linear function of the\nSNLLS problem. This function needs to take the parameters and return a\ncell-array of kernels, each one for the corresponding datasets that we\nhave. \nSince we have a total distribution of the form \n\n    ``P = xA*PA + xB*PB``\n\nwe can define an augmented kernel as\n\n    ``K = [xA*KA xB*KB]``\n\nsuch that \n\n    ``K@[PA PB] = V``\n\nand the vector ``[PA PB]`` constitutes the linear part fitted by SNLLS.\n\n"
      ]
    },
    {
      "cell_type": "code",
      "execution_count": null,
      "metadata": {
        "collapsed": false
      },
      "outputs": [],
      "source": [
        "def Kmodel(par,ts,rA,rB,L):\n\n    Nsignals = len(ts)\n\n    # Unpack parameters\n    lam,k,Kdis = par\n\n    # Get fractions for given KD\n    [xA,xB] = chemicalequilibrium(Kdis,L)\n\n    Ks = [[]]*Nsignals\n    # General the dipolar kernels\n    for i in range(Nsignals):\n        B = dl.bg_exp(ts[i],k)\n        # Kernel for fraction A\n        KstateA = dl.dipolarkernel(ts[i],rA,mod=lam,bg=B)\n        # Kernel for fraction B\n        KstateB = dl.dipolarkernel(ts[i],rB,mod=lam,bg=B)\n        Ks[i] = np.concatenate((xA[i]*KstateA, xB[i]*KstateB),axis=1)\n\n    return Ks"
      ]
    },
    {
      "cell_type": "markdown",
      "metadata": {},
      "source": [
        "Now, we can simulate multiple signals corresponding to different concentrations\nof added ligand. \n\n"
      ]
    },
    {
      "cell_type": "code",
      "execution_count": null,
      "metadata": {
        "collapsed": false
      },
      "outputs": [],
      "source": [
        "# Time axes\nts = [[]]*7\nts[0] = np.linspace(-0.2,3,100)\nts[1] = np.linspace(-0.1,5,300)\nts[2] = np.linspace(-0.5,2,200)\nts[3] = np.linspace(-0.1,1,100)\nts[4] = np.linspace(-0.2,6,300)\nts[5] = np.linspace(-0.2,3,300)\nts[6] = np.linspace(-0.1,4,100)\nNsignals = len(ts)\n\n# Distance axes for states A and B\nrA = np.linspace(1,8,100)\nrB = np.linspace(1,8,100)\n\n# Distributions for states A and B\nPstateA = dl.dd_gauss(rA,[5.5, 0.25])\nPstateB = dl.dd_gauss2(rB,[4.5, 0.4, 0.4, 3.5, 0.35, 0.6])\n\nL = [0.3, 1, 3, 10, 30, 100, 300] # total ligand concentration, \u00b5M\nKdis = 5.65  # dissociation constant, \u00b5M\n\n# Populations of states A and B\n[xA,xB] = chemicalequilibrium(Kdis,L)\n\n# Global kernel model\nKs = Kmodel([0.25, 0.1, Kdis],ts,rA,rB,L)\n\n# Simulate dipolar signals\nVs = [[]]*Nsignals\nfor i in range(Nsignals):\n    Vs[i] = Ks[i]@np.concatenate((PstateA, PstateB)) + dl.whitegaussnoise(ts[i],0.05,seed=i)"
      ]
    },
    {
      "cell_type": "markdown",
      "metadata": {},
      "source": [
        "## Psuedotitration SNLLS Analysis\n For simplification, we will assume that all DEER traces have the same\n background function and modulation depth. Thus, we will fit the\n modulations depth (lam) and background decay constant (k) globally along\n the dissociation constant (KD).\n\n"
      ]
    },
    {
      "cell_type": "code",
      "execution_count": null,
      "metadata": {
        "collapsed": false
      },
      "outputs": [],
      "source": [
        "# Non-linear parameters:\n#       lam  k   KD\npar0 = [0.5, 0.5,  5]  # start values \nlb   = [ 0,   0,   1]  # lower bounds\nub   = [ 1,   1,  10] # upper bounds\n\n# Linear parameters:\n#     |-------PA--------||--------PB--------|\nlbl = np.concatenate((np.zeros_like(rA), np.zeros_like(rB))) # Non-negativity constraint\nubl = [] # Unconstrained\n\n# Run SNLLS optimization\nfit = dl.snlls(Vs,lambda p: Kmodel(p,ts,rA,rB,L),par0,lb,ub,lbl,ubl)\n# Extract fit results\nparfit = fit.nonlin\nPfit = fit.lin\n\n# Extract the fitted disociation constant value and its 95#-confidence interval\nKdisfit = parfit[2]\nparci = fit.nonlinUncert.ci(95)\nKDci = parci[2,:]\n\n# Print the fitted dissociation constant with confidence intervals\nprint(f'Kdis = {Kdisfit:.2f}({KDci[0]:.2f}-{KDci[1]:.2f})\u00b5M')"
      ]
    },
    {
      "cell_type": "code",
      "execution_count": null,
      "metadata": {
        "collapsed": false
      },
      "outputs": [],
      "source": [
        "# Plot results\nplt.figure(figsize=(12,12))\n\n# Plot the fitted signals with confidence bands\nplt.subplot(121)\nfor i in range(Nsignals):\n    Vci = fit.modelUncert[i].ci(95)\n    Vfit = fit.model[i]\n    plt.plot(ts[i],Vs[i]+i/3,'.',color='grey',alpha=0.7,linestyle=None)\n    plt.plot(ts[i],Vfit+i/3,'b',linewidth=1.5)\n    plt.fill_between(ts[i],Vci[:,0]+i/3,Vci[:,1]+i/3,color='b',alpha=0.2)\nplt.grid(alpha =0.3)\nplt.xlabel('t (\u00b5s)')\nplt.ylabel('V (arb.u.)')\nplt.legend(['data','fit'])\n\n# Get fitted fractions with confidence intervals\nxAfit,xBfit = chemicalequilibrium(Kdisfit,L)\nxA_model = lambda param: chemicalequilibrium(param[2],L)[0]\nxB_model = lambda param: chemicalequilibrium(param[2],L)[1]\nxA_uq = fit.nonlinUncert.propagate(xA_model)\nxB_uq = fit.nonlinUncert.propagate(xB_model)\nxA_ci = xA_uq.ci(95)\nxB_ci = xB_uq.ci(95)\n\n# Combine the uncertainties of the distance distributions and the molar fractions\njoinedA_uq = fit.linUncert.join(xA_uq)\njoinedB_uq = fit.linUncert.join(xB_uq)\n\n# We now deal with a combined paramter vector containing (PAfit,PBfit,xfit)\n# Let's define the indices of the diferent quantities to access the elements of the \n# array easier \nrA_idx = np.arange(0,len(rA))\nrB_idx = np.arange(len(rA),len(rB)+len(rA))\nxA_idx = np.arange(len(rB)+len(rA),len(rB)+len(rA)+len(xAfit))\nxB_idx = np.arange(len(rB)+len(rA),len(rB)+len(rA)+len(xBfit))\n\nplt.subplot(122)\nfor i in range(Nsignals):\n\n    # Model of the distance distribution of the A state\n    def PAfit_model(param):\n        PAfit = param[rA_idx]\n        xAfit = param[xA_idx][i]\n        return xAfit*PAfit\n        \n    # Model of the distance distribution of the B state\n    def PBfit_model(param):\n        PBfit = param[rB_idx]\n        xBfit = param[xB_idx][i] \n        return xBfit*PBfit\n\n    PAfit = PAfit_model(np.concatenate([Pfit,xAfit]))\n    PBfit = PBfit_model(np.concatenate([Pfit,xBfit]))\n    \n    # Propagate the uncertainty in the fits to the fraction distance distribution models...\n    PAfit_uq = joinedA_uq.propagate(PAfit_model)\n    PBfit_uq = joinedB_uq.propagate(PBfit_model)\n    # ... and get the 95% confidence intervals\n    PAci = PAfit_uq.ci(95)\n    PBci = PBfit_uq.ci(95)\n\n    # Plot the fitted distributions with confidence bands\n    plt.plot(rA,PAfit+1.2*i,'tab:red',rB,PBfit+1.2*i,'tab:blue',linewidth=1.5)\n    plt.fill_between(rA,PAci[:,0]+1.2*i,PAci[:,1]+1.2*i,color='tab:red',alpha=0.2)\n    plt.fill_between(rB,PBci[:,0]+1.2*i,PBci[:,1]+1.2*i,color='tab:blue',alpha=0.2)\nplt.grid(alpha =0.3)\nplt.xlabel('r (nm)')\nplt.ylabel('P (nm\u207b\u00b9)')\nplt.legend(['state A','state B'])\nplt.xlim([2,7])\n\nplt.tight_layout()\nplt.show()"
      ]
    },
    {
      "cell_type": "code",
      "execution_count": null,
      "metadata": {
        "collapsed": false
      },
      "outputs": [],
      "source": [
        "# Plot dose-response curve with confidence bands\nplt.figure()\nplt.plot(np.log10(L),xA,'tab:red',np.log10(L),xB,'tab:blue')\nplt.plot(np.log10(L),xAfit,'o',color='tab:red')\nplt.plot(np.log10(L),xBfit,'o',color='tab:blue')\nplt.fill_between(np.log10(L),xA_ci[:,0],xA_ci[:,1],color='tab:red',alpha=0.2)\nplt.fill_between(np.log10(L),xB_ci[:,0],xB_ci[:,1],color='tab:blue',alpha=0.2)\nplt.grid(alpha =0.3)\nplt.xlabel('log$_{10}$([L])')\nplt.ylabel('Fractions')\nplt.legend(['state A','state B'])\nplt.ylim([0,1])\n\nplt.tight_layout()\nplt.show()"
      ]
    }
  ],
  "metadata": {
    "kernelspec": {
      "display_name": "Python 3",
      "language": "python",
      "name": "python3"
    },
    "language_info": {
      "codemirror_mode": {
        "name": "ipython",
        "version": 3
      },
      "file_extension": ".py",
      "mimetype": "text/x-python",
      "name": "python",
      "nbconvert_exporter": "python",
      "pygments_lexer": "ipython3",
      "version": "3.7.10"
    }
  },
  "nbformat": 4,
  "nbformat_minor": 0
}