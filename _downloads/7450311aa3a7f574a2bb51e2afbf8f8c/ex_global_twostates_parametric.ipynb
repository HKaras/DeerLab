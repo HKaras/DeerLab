{
  "cells": [
    {
      "cell_type": "code",
      "execution_count": null,
      "metadata": {
        "collapsed": false
      },
      "outputs": [],
      "source": [
        "%matplotlib inline"
      ]
    },
    {
      "cell_type": "markdown",
      "metadata": {},
      "source": [
        "\n# Global fitting of a two-state model to a series of DEER traces\n\nThis example shows how to fit a two-state model to a series DEER traces. Each of the\ntwo states, A and B, has a one-Gauss distance distribution, and each DEER trace comes\nfrom a sample with different fractional populations of the two states. This could be\nthe consequence of a chemical or conformational equilibrium. The model contains global\nparameters needed for all samples traces (the distribution parameters) and local\nparameters needed for individual samples traces (the fractional populations).\n"
      ]
    },
    {
      "cell_type": "code",
      "execution_count": null,
      "metadata": {
        "collapsed": false
      },
      "outputs": [],
      "source": [
        "import numpy as np\nimport matplotlib.pyplot as plt\nimport deerlab as dl"
      ]
    },
    {
      "cell_type": "markdown",
      "metadata": {},
      "source": [
        "## Generate datasets\n For this example, we generate synthetic data.\n\n"
      ]
    },
    {
      "cell_type": "code",
      "execution_count": null,
      "metadata": {
        "collapsed": false
      },
      "outputs": [],
      "source": [
        "# Parameters for the distance distibutions for states A and B\nrmeanA = 3.45  # mean distance state A, in nm\nrmeanB = 5.05  # mean distance state B, in nm\nsigmaA = 0.3   # standard deviation state A, in nm\nsigmaB = 0.2   # standard deviation state B, in nm\nr = np.linspace(2,6,300)  # distance axis, in nm\n\nfracA = [0.8, 0.5, 0.1] # molar fraction of state A for each sample\n\n# Model parameters\npar0 = [rmeanA, rmeanB, sigmaA, sigmaB] + fracA\n\n# Generate list of time axes\ntmin = [-0.2, -0.2, -0.2]   # start times, in \u00b5s\ntmax = [4, 5, 4]            # end times, in \u00b5s\nnt = [200, 150, 150]        # number of time-domain points\nN = len(tmin)               # number of DEER traces\nt = [np.linspace(tmin[i],tmax[i],nt[i]) for i in range(N)]\n\n# Generate the corresponding dipolar kernels\n# (for the sake of simplicity, no background and 100% modulation depth are assumed)\nK = [dl.dipolarkernel(t_,r) for t_ in t]\n\n# Model functions for V and P (needs K and r)\ndef ABmodel(par):\n\n    # Unpack parameters\n    rmeanA, rmeanB, sigmaA, sigmaB, *fracA = par\n    \n    N = len(fracA) # number of traces\n    \n    # Generate the state distributions\n    PA = dl.dd_gauss(r,[rmeanA, sigmaA])\n    PB = dl.dd_gauss(r,[rmeanB, sigmaB])\n    \n    # Generate distributions and signals for each sample\n    P = [fA*PA+(1-fA)*PB for fA in fracA]\n    V = [K[i]@P[i] for i in range(N)]\n\n    return V, P\n\n# Generate noise-free synthetic traces and distributions\nV0, P0 = ABmodel(par0)\n\n# Add noise\nnoiselevel = [0.05, 0.1, 0.1]\nVexp = [V0[i] + dl.whitegaussnoise(t[i],noiselevel[i],seed=i) for i in range(N)]"
      ]
    },
    {
      "cell_type": "markdown",
      "metadata": {},
      "source": [
        "## Global fit\nWe now want to fit the model to the generated data. The fit parameters are\nthe distribution parameters for the two states (rmeanA, rmeanB, sigmaA, sigmaB)\nand the fractional population of state A in each sample (fracA)\n\n"
      ]
    },
    {
      "cell_type": "code",
      "execution_count": null,
      "metadata": {
        "collapsed": false
      },
      "outputs": [],
      "source": [
        "# Set starting values and bounds of fit parameters \n#        [rmeanA rmeanB sigmaA sigmaB fracA1 fracA2 fracA3]\npar0 =   [2,       2,     0.3,   0.3,   0.5,  0.5,  0.5]\nlower =  [1,       1,     0.05,  0.05,  0,    0,     0]\nupper =  [10,     10,     0.6,   0.6,   1,    1,     1]"
      ]
    },
    {
      "cell_type": "markdown",
      "metadata": {},
      "source": [
        "Out model function ``ABmodel`` returns multiple outputs, V and P.\nThis is useful for later obtaining boht V and P, but the fit function requires\njust one model output. Therefore, we  create a small wrapper function that just\ntakes the first ouput argument of ``ABmodel``.\n\n"
      ]
    },
    {
      "cell_type": "code",
      "execution_count": null,
      "metadata": {
        "collapsed": false
      },
      "outputs": [],
      "source": [
        "model = lambda par: ABmodel(par)[0] # call ABmodel and take the first output (V)\n\n# Fit the model to all traces simultaneously (global fit)\nfit = dl.fitparamodel(Vexp,model,par0,lower,upper,multistart=40)\n# The use of the option 'multistart' helps the solver to find the\n# global minimum and not to get stuck in a local minimum.\n\n# Display fitted parameters and their uncertainties (standard deviations)\nlist(zip(fit.param, fit.paramUncert.std))"
      ]
    },
    {
      "cell_type": "markdown",
      "metadata": {},
      "source": [
        "Get the fitted model traces and distributions\n\n"
      ]
    },
    {
      "cell_type": "code",
      "execution_count": null,
      "metadata": {
        "collapsed": false
      },
      "outputs": [],
      "source": [
        "Vfit, Pfit = ABmodel(fit.param)\n\n# Get 95% confidence intervals of the fitted traces\nVfit_ci = [fit.modelUncert[i].ci(95) for i in range(N)]\n\n# Propagate parameter uncertainty to the distribution models, accounting for non-negativity\nPfit_uq = [fit.paramUncert.propagate(lambda param: ABmodel(param)[1][i],lbm=np.zeros_like(r)) for i in range(N)]\n\n# Get their 95% confidence intervals \nPfit_ci = [Pfit_uq[i].ci(95) for i in range(N)]"
      ]
    },
    {
      "cell_type": "markdown",
      "metadata": {},
      "source": [
        "## Plot results\n\n"
      ]
    },
    {
      "cell_type": "code",
      "execution_count": null,
      "metadata": {
        "collapsed": false
      },
      "outputs": [],
      "source": [
        "plt.figure(figsize=(8,6))\nfor i in range(N):\n    plt.subplot(N,2,2*i+1)\n    plt.plot(t[i],V0[i],'.',color='grey')\n    plt.plot(t[i],Vfit[i],'tab:red')\n    plt.fill_between(t[i],Vfit_ci[i][:,0],Vfit_ci[i][:,1],color='tab:red',alpha=0.3)\n    plt.grid(alpha=0.3)\n    plt.xlabel('t (\u00b5s)')\n    plt.ylabel('V')\n    plt.title(f'Trace {i+1}')\n\n    plt.subplot(N,2,2*i+2)\n    plt.plot(r,P0[i],'k',r,Pfit[i],'tab:red')\n    plt.fill_between(r,Pfit_ci[i][:,0],Pfit_ci[i][:,1],color='tab:red',alpha=0.3)\n    plt.grid(alpha=0.3)\n    plt.xlabel('r (nm)')\n    plt.ylabel('P (nm\u207b\u00b9)')\n    plt.legend(['truth','fit'])\n\nplt.tight_layout()\nplt.show()\n # %%"
      ]
    }
  ],
  "metadata": {
    "kernelspec": {
      "display_name": "Python 3",
      "language": "python",
      "name": "python3"
    },
    "language_info": {
      "codemirror_mode": {
        "name": "ipython",
        "version": 3
      },
      "file_extension": ".py",
      "mimetype": "text/x-python",
      "name": "python",
      "nbconvert_exporter": "python",
      "pygments_lexer": "ipython3",
      "version": "3.7.10"
    }
  },
  "nbformat": 4,
  "nbformat_minor": 0
}