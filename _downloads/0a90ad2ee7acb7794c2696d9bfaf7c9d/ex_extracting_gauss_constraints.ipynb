{
  "cells": [
    {
      "cell_type": "code",
      "execution_count": null,
      "metadata": {
        "collapsed": false
      },
      "outputs": [],
      "source": [
        "%matplotlib inline"
      ]
    },
    {
      "cell_type": "markdown",
      "metadata": {},
      "source": [
        "\n# Fitting Gaussians to a non-parametric distance distribution\n\nThis example shows how to fit Gaussians to a non-parametric distance\ndistribution obtained via Tikhonov regularization and how to calculate\nthe corresponding uncertainty.\n"
      ]
    },
    {
      "cell_type": "code",
      "execution_count": null,
      "metadata": {
        "collapsed": false
      },
      "outputs": [],
      "source": [
        "import numpy as np\nimport matplotlib.pyplot as plt\nimport deerlab as dl"
      ]
    },
    {
      "cell_type": "code",
      "execution_count": null,
      "metadata": {
        "collapsed": false
      },
      "outputs": [],
      "source": [
        "# Simulate a 4pDEER signal\n\ndef simulatedata():\n    r = np.linspace(1,7,200)   # distance axis, nm\n    P = dl.dd_gauss3(r,[4.5, 0.35, 0.4, 3, 0.25, 0.3, 4, 0.4, 0.5])  # distance distribution\n    lam = 0.3                  # modulation depth\n    conc = 80                  # spin concentration, \u00b5M\n    t = np.linspace(0,5,250)   # time axis, \u00b5s\n    B = dl.bg_hom3d(t,conc,lam)                   # background\n    K = dl.dipolarkernel(t,r,mod=lam,bg=B)        # kernel matrix\n    V = K@P + dl.whitegaussnoise(t,0.01,seed=0)   # DEER trace, with added noise\n    return t, V\n    \nt, V = simulatedata()"
      ]
    },
    {
      "cell_type": "markdown",
      "metadata": {},
      "source": [
        "## Fit the dipolar signal\n First, we fit the non-parametric distance distribution using ``fitmodel()``\n %%\n\n"
      ]
    },
    {
      "cell_type": "code",
      "execution_count": null,
      "metadata": {
        "collapsed": false
      },
      "outputs": [],
      "source": [
        "r = np.linspace(1,7,200)\nfit = dl.fitmodel(V,t,r,'P',dl.bg_exp,dl.ex_4pdeer)\nfit.plot()\nplt.show()"
      ]
    },
    {
      "cell_type": "markdown",
      "metadata": {},
      "source": [
        "## Fit Gaussians to the distance distribution\nNext, we fit a multi-Gauss distribution to the fitted non-parametric\ndistribution. We can do this by using the ``fitparamodel()`` function (in\nthis example, fitting a two-Gauss model). \n\nHowever, in order to get the correct uncertainty quantification, we need\nto specify the covariance matrix of the fitted distribution.\n``fitparamodel()`` can then use that information to propagate the error in\n``Pfit`` to the Gauss constraints that we then fit.\n\n"
      ]
    },
    {
      "cell_type": "code",
      "execution_count": null,
      "metadata": {
        "collapsed": false
      },
      "outputs": [],
      "source": [
        "# From the fit results, extract the distribution and the covariance matrix\nPfit = fit.P\nPfit_uq = fit.Puncert\nPfit_covmat = Pfit_uq.covmat"
      ]
    },
    {
      "cell_type": "markdown",
      "metadata": {},
      "source": [
        "Fit a 2-Gauss model to the fitted parameter-free distribution:\n\n    - ``parfit```: will contain the Gaussian constraints\n    - ``PGauss```: the corresponding distribution\n    - ``paruq```: the uncertainty quantification of our constraints\n\n"
      ]
    },
    {
      "cell_type": "code",
      "execution_count": null,
      "metadata": {
        "collapsed": false
      },
      "outputs": [],
      "source": [
        "Pmodel = lambda par: dl.dd_gauss2(r,par)\n\n# Get information on the model\npar0 = dl.dd_gauss2.start\nlb = dl.dd_gauss2.lower\nub = dl.dd_gauss2.upper\n\n# Fit the Gaussians\nfit = dl.fitparamodel(Pfit,Pmodel,par0,lb,ub,covmatrix=Pfit_covmat,fitscale=False)\n\n# Extract the fit results\nparfit = fit.param\nparuq = fit.paramUncert\nPGauss = dl.dd_gauss2(r,parfit)\n\n# Extract the 95%-confidence intervals...\npar95 = paruq.ci(95)\n# ... and print the results\nprint('\\nGaussian components:')\nfor i in range(len(parfit)):\n    print(f'  parfit[{i}] = {parfit[i]:2.2f} ({par95[i,0]:2.2f}, {par95[i,1]:2.2f}) {dl.dd_gauss2.parameters[i]}')\n\n# Now propagate the error of the Gaussian parameters to the distribution\nlb = np.zeros_like(r) # non-negativity constraint\nPGauss_uq = paruq.propagate(lambda par: dl.dd_gauss2(r,par),lb)\nPGauss95 = PGauss_uq.ci(95)"
      ]
    },
    {
      "cell_type": "markdown",
      "metadata": {},
      "source": [
        "sphinx_gallery_thumbnail_number = 2\n\n"
      ]
    },
    {
      "cell_type": "code",
      "execution_count": null,
      "metadata": {
        "collapsed": false
      },
      "outputs": [],
      "source": [
        "# Plot the fitted constraints model on top of the non-parametric case\nplt.plot(r,Pfit,'r',linewidth=1.5,label='non-param. fit')\nplt.fill_between(r,Pfit_uq.ci(95)[:,0], Pfit_uq.ci(95)[:,1],facecolor='r',linestyle='None',alpha=0.2,label=r'95% confidence intervals')\n\nplt.plot(r,PGauss,'b',linewidth=1.5,label='2-Gauss fit to nonparam. fit')\nplt.fill_between(r,PGauss95[:,0], PGauss95[:,1],facecolor='b',linestyle='None',alpha=0.2,label=r'95% confidence interval')\n\nplt.xlabel('Distance (nm)')\nplt.ylabel('P (nm\u207b\u00b9)')\nplt.tight_layout()\nplt.grid(alpha=0.3)\nplt.legend()\nplt.show()"
      ]
    }
  ],
  "metadata": {
    "kernelspec": {
      "display_name": "Python 3",
      "language": "python",
      "name": "python3"
    },
    "language_info": {
      "codemirror_mode": {
        "name": "ipython",
        "version": 3
      },
      "file_extension": ".py",
      "mimetype": "text/x-python",
      "name": "python",
      "nbconvert_exporter": "python",
      "pygments_lexer": "ipython3",
      "version": "3.7.10"
    }
  },
  "nbformat": 4,
  "nbformat_minor": 0
}