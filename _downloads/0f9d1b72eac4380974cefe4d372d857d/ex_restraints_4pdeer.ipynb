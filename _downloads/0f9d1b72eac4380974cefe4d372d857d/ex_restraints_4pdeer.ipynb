{
  "cells": [
    {
      "cell_type": "code",
      "execution_count": null,
      "metadata": {
        "collapsed": false
      },
      "outputs": [],
      "source": [
        "%matplotlib inline"
      ]
    },
    {
      "cell_type": "markdown",
      "metadata": {},
      "source": [
        "# Distance restraints from 4-pulse DEER data, non-parametric distribution\n\nHow to fit a simple 4-pulse DEER signal and derive distance restraints from \nthe fitted non-parametric distance distribution.\n"
      ]
    },
    {
      "cell_type": "code",
      "execution_count": null,
      "metadata": {
        "collapsed": false
      },
      "outputs": [],
      "source": [
        "import numpy as np\nimport matplotlib.pyplot as plt\nimport deerlab as dl"
      ]
    },
    {
      "cell_type": "markdown",
      "metadata": {},
      "source": [
        "Uncomment and use the following lines if you have experimental data:\n\nt,Vexp = dl.deerload('my\\path\\4pdeer_data.DTA')\nVexp = dl.correctphase(Vexp)\nt = dl.correctzerotime(Vexp,t)\n\n\n"
      ]
    },
    {
      "cell_type": "markdown",
      "metadata": {},
      "source": [
        "In this example we will use simulated data instead:\n\n"
      ]
    },
    {
      "cell_type": "code",
      "execution_count": null,
      "metadata": {
        "collapsed": false
      },
      "outputs": [],
      "source": [
        "# Define a function that generates synthetic data\ndef generatedata():\n    t = np.linspace(-0.1,4,250)        # time axis, \u00b5s\n    r = np.linspace(1,6,200)           # distance axis, nm\n    param = [3, 0.1, 0.2, 3.5, 0.1, 0.65, 3.8, 0.05, 0.15] # parameters for three-Gaussian model\n    P = dl.dd_gauss3(r,param)          # model distance distribution\n    lam = 0.5                          # modulation depth\n    B = dl.bg_hom3d(t,300,lam)         # background decay\n    K = dl.dipolarkernel(t,r,mod=lam,bg=B)    # kernel matrix\n    Vexp = K@P + dl.whitegaussnoise(t,0.03,seed=0)\n    return t, Vexp\n\nt, Vexp = generatedata()"
      ]
    },
    {
      "cell_type": "code",
      "execution_count": null,
      "metadata": {
        "collapsed": false
      },
      "outputs": [],
      "source": [
        "# Run fit\nr = np.linspace(1,6,200)\nfit = dl.fitmodel(Vexp,t,r,'P',dl.bg_hom3d,dl.ex_4pdeer)\nfit.plot();"
      ]
    },
    {
      "cell_type": "markdown",
      "metadata": {},
      "source": [
        "Now that we have a fit of the distance distribution we can obtain distance restraints in the form of different statistical \ndescriptors such as the mean distance and standard deviation of distances. \nWhile we could calculate this manually, DeerLab provides a convenient function ``diststats`` which will automatically compute\nthese for you and even propagate the uncertainty in the distributions to those values to get confidence intervals on the restraints. \n\nIf we specify the ``verbose`` option, we can get a complete summary of all statistical descriptors of the fitted distributions \nincluding 95% confidence intervals.\n\n"
      ]
    },
    {
      "cell_type": "code",
      "execution_count": null,
      "metadata": {
        "collapsed": false
      },
      "outputs": [],
      "source": [
        "# Get printed summary of all statistical descriptors available with confidence intervals\nestimators,uq = dl.diststats(r,fit.P,fit.Puncert,verbose=True)"
      ]
    },
    {
      "cell_type": "markdown",
      "metadata": {},
      "source": [
        "However, if you are just interested in specific quantities to use as restraints, you can extract them from the returned dictionary.\nFor example, let's just get the mean distance and standard deviation of the fitted distribution.\n\n"
      ]
    },
    {
      "cell_type": "code",
      "execution_count": null,
      "metadata": {
        "collapsed": false
      },
      "outputs": [],
      "source": [
        "# Mean distance\nrmean = estimators['mean']\nrmean_ci = uq['mean'].ci(95)\n# Standard deviation\nr_std = estimators['std']\nr_std_ci = uq['std'].ci(95)\n\n# Print out the results\nprint(f'Mean distance: {rmean:.3f} ({rmean_ci[0]:.3f}-{rmean_ci[1]:.3f}) nm')\nprint(f'Standard deviation: {r_std:.3f} ({r_std_ci[0]:.3f}-{r_std_ci[1]:.3f}) nm')"
      ]
    },
    {
      "cell_type": "markdown",
      "metadata": {},
      "source": [
        "For display, you can plot the mean distance with its confidence intervals without further calculations.\n\n"
      ]
    },
    {
      "cell_type": "code",
      "execution_count": null,
      "metadata": {
        "collapsed": false
      },
      "outputs": [],
      "source": [
        "# Plot distribution and confidence bands\nPci95 = fit.Puncert.ci(95)\nPci50 = fit.Puncert.ci(50)\nplt.plot(r,fit.P,linewidth=2,label='Distance distribution fit')\nplt.fill_between(r,Pci95[:,0],Pci95[:,1],color='tab:blue',alpha=0.1)\nplt.fill_between(r,Pci50[:,0],Pci50[:,1],color='tab:blue',alpha=0.3)\n\n# Plot mean distance and confidence interval\nplt.vlines(rmean,0,max(Pci95[:,1]),color='tab:red',linestyles='dotted',linewidth=3,label='Mean distance')\nplt.fill_between(rmean_ci,0,max(Pci95[:,1]),color='tab:red',alpha=0.3)\n\nplt.legend()\n\nplt.ylim([0,max(Pci95[:,1])])\nplt.xlabel('r (nm)')\nplt.ylabel('P (nm\u207b\u00b9)')\n\nplt.tight_layout() \nplt.show()"
      ]
    }
  ],
  "metadata": {
    "kernelspec": {
      "display_name": "Python 3",
      "language": "python",
      "name": "python3"
    },
    "language_info": {
      "codemirror_mode": {
        "name": "ipython",
        "version": 3
      },
      "file_extension": ".py",
      "mimetype": "text/x-python",
      "name": "python",
      "nbconvert_exporter": "python",
      "pygments_lexer": "ipython3",
      "version": "3.7.10"
    }
  },
  "nbformat": 4,
  "nbformat_minor": 0
}