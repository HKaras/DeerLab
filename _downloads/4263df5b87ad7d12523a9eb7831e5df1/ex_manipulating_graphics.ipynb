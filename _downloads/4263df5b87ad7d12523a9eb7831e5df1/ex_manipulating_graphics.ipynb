{
  "cells": [
    {
      "cell_type": "code",
      "execution_count": null,
      "metadata": {
        "collapsed": false
      },
      "outputs": [],
      "source": [
        "%matplotlib inline"
      ]
    },
    {
      "cell_type": "markdown",
      "metadata": {},
      "source": [
        "# Manipulating DeerLab plots\n\nBasic example for manipulating the figures returned by DeerLab fit functions.\n"
      ]
    },
    {
      "cell_type": "code",
      "execution_count": null,
      "metadata": {
        "collapsed": false
      },
      "outputs": [],
      "source": [
        "import numpy as np\nimport matplotlib.pyplot as plt\nimport deerlab as dl"
      ]
    },
    {
      "cell_type": "markdown",
      "metadata": {},
      "source": [
        "All ``FitResult.plot()`` methods in DeerLab return a Matplotlib figure object that can be manipulated to change the default \nplotting set in DeerLab. \nIn order to be able to change graphical elements in the plot, the figure object must be requested when calling the ``plot()``\nfunction. Also, since we want to change the graphics in the figure, we can disable the plotting provisionally until we have \nedited the figure. This can be done via the ``show=False`` option.\n\n"
      ]
    },
    {
      "cell_type": "code",
      "execution_count": null,
      "metadata": {
        "collapsed": false
      },
      "outputs": [],
      "source": [
        "# Simulate some data\nt = np.linspace(-0.1,4,250)        # time axis, \u00b5s\nr = np.linspace(2,5,200)           # distance axis, nm\nparam = [3, 0.1, 0.2, 3.5, 0.1, 0.65, 3.8, 0.05, 0.15] # parameters for three-Gaussian model\nP = dl.dd_gauss3(r,param)          # model distance distribution\nlam = 0.5                          # modulation depth\nB = dl.bg_hom3d(t,300,lam)         # background decay\nK = dl.dipolarkernel(t,r,mod=lam,bg=B)    # kernel matrix\nVexp = K@P + dl.whitegaussnoise(t,0.01,seed=0)\n\n# Run fit\nfit = dl.fitmodel(Vexp,t,r,'P',dl.bg_hom3d,dl.ex_4pdeer)\nfig = fit.plot(show=False)"
      ]
    },
    {
      "cell_type": "markdown",
      "metadata": {},
      "source": [
        "If we call ``fig.get_children()`` we can see that there are three graphical elements: \n  - A rectangle object (unimportant)\n  - Two subplot objects ``<AxesSubplot>`` one for each subplot\nWe can get all of them separately from the method call.\n\n"
      ]
    },
    {
      "cell_type": "code",
      "execution_count": null,
      "metadata": {
        "collapsed": false
      },
      "outputs": [],
      "source": [
        "# Get a list of the graphical elements inside the figure\n_, plt1, plt2 = fig.get_children()"
      ]
    },
    {
      "cell_type": "markdown",
      "metadata": {},
      "source": [
        "From these objects, every single graphical element can be manipulated or added to the existing plots. Here is an example of\nmanipulation of the graphical settings:\n\n"
      ]
    },
    {
      "cell_type": "code",
      "execution_count": null,
      "metadata": {
        "collapsed": false
      },
      "outputs": [],
      "source": [
        "plt1.set_ylabel('Dipolar signal')               # Edit the y-axis of the top subplot\nplt1.set_xlabel('t [\u03bcs]')                       # Edit the x-axis of the top subplot\nplt1.grid(False)                                # Remove the grid lines of the top subplot\n\nplt2.set_ylabel('Distance distribution [nm\u207b\u00b9]') # Edit the y-axis of the bottom subplot\nplt2.set_xlabel('r [nm]')                       # Edit the x-axis of the bottom subplot\nplt2.grid(False)                                # Remove the grid lines of the bottom subplot\n\nplt1.get_children()[4].set_color('tab:red')     # Change the color of the data points\nplt1.get_children()[5].set_color('k')        # Change the color of the fitted signal\nplt1.get_children()[6].set_color('k')        # Change the color of the unmodulated contribution\n\n# Change the color of the distribution and its confidence bands to red\nplt2.get_children()[0].set_color('tab:red')     # Change the color of the fit\nplt2.get_children()[1].set_color('tab:red')     # Change the color of the 50% CI\nplt2.get_children()[2].set_color('tab:red')     # Change the color of the 95% CI\n\n# Change the fontsize on both subplots\nfor ax in [plt1, plt2]:\n    for item in ([ax.title, ax.xaxis.label, ax.yaxis.label] + ax.get_xticklabels() + ax.get_yticklabels()):\n        item.set_fontsize(13)\n\n# Remove legends on both subplots\nplt2.get_children()[12].remove()\nplt1.get_children()[16].remove()\n\n# Distribute everything in the available space to avoid overlapping\nfig.set_tight_layout(True)"
      ]
    },
    {
      "cell_type": "markdown",
      "metadata": {},
      "source": [
        "When all settings have been modified. The figure can be finally rendered by simply calling the ``display()`` function \nwith the modified figure object. This only works in IJupyter frameworks not as a .py script. \n\n"
      ]
    }
  ],
  "metadata": {
    "kernelspec": {
      "display_name": "Python 3",
      "language": "python",
      "name": "python3"
    },
    "language_info": {
      "codemirror_mode": {
        "name": "ipython",
        "version": 3
      },
      "file_extension": ".py",
      "mimetype": "text/x-python",
      "name": "python",
      "nbconvert_exporter": "python",
      "pygments_lexer": "ipython3",
      "version": "3.7.10"
    }
  },
  "nbformat": 4,
  "nbformat_minor": 0
}