{
  "cells": [
    {
      "cell_type": "code",
      "execution_count": null,
      "metadata": {
        "collapsed": false
      },
      "outputs": [],
      "source": [
        "%matplotlib inline"
      ]
    },
    {
      "cell_type": "markdown",
      "metadata": {},
      "source": [
        "\n# Fitting a custom dipolar kernel model with a parameter-free distribution\n\nHow the use of SNLLS to fit a kernel model and a parameter-free \ndistribution to a dipolar signal.\n"
      ]
    },
    {
      "cell_type": "code",
      "execution_count": null,
      "metadata": {
        "collapsed": false
      },
      "outputs": [],
      "source": [
        "import numpy as np\nimport matplotlib.pyplot as plt\nimport deerlab as dl"
      ]
    },
    {
      "cell_type": "markdown",
      "metadata": {},
      "source": [
        "## Generating a dataset\n For this example we will simulate a simple 4pDEER signal\n\n"
      ]
    },
    {
      "cell_type": "code",
      "execution_count": null,
      "metadata": {
        "collapsed": false
      },
      "outputs": [],
      "source": [
        "t = np.linspace(-0.5,5,300)  # \u00b5s\nr = np.linspace(2,6,200)   # nm\n\n# Generate ground truth and input signal\nP = dl.dd_gauss2(r,[3.5, 0.25, 0.4, 4.5, 0.4, 0.6])\nlam = 0.36\nc0 = 250 # \u00b5M\nB = dl.bg_hom3d(t,c0,lam)\nK = dl.dipolarkernel(t,r,mod=lam,bg=B)\nV = K@P  + dl.whitegaussnoise(t,0.01)"
      ]
    },
    {
      "cell_type": "markdown",
      "metadata": {},
      "source": [
        "## Fitting via SNLLS\n Now in order to fit a non-linear dipolar kernel model ``Kmodel`` and a\n linear parameter-free distance distribution ``Pfit`` simultaneously, we\n can use the separable non-linear least squares ``SNLLS`` method. \n\n First we define the function that contains the model for the dipolar kernel we want to fit. It \n is a non-linear functon that accepts the parameter array ``p`` and returns the \n fitted dipolar kernel ``K``. The linear parameters, in this case ``P``, are\n computed by solving a Tikhonov-regularized linear LSQ problem automatically in the ``snlls`` function. \n\n"
      ]
    },
    {
      "cell_type": "code",
      "execution_count": null,
      "metadata": {
        "collapsed": false
      },
      "outputs": [],
      "source": [
        "def Kmodel(p):\n\n    # Unpack parameters\n    lam,c0 = p\n    # Get background\n    B = dl.bg_hom3d(t,c0,lam)\n    # Generate 4pDEER kernel\n    K = dl.dipolarkernel(t,r,mod=lam,bg=B)\n\n    return K"
      ]
    },
    {
      "cell_type": "markdown",
      "metadata": {},
      "source": [
        "Next, there are two different parameter sets being fitted at the same time:\nlinear and non-linear parameters. Therefore, the lower/upper bounds for\nthe two sets need (or can) be specified.\n\n"
      ]
    },
    {
      "cell_type": "code",
      "execution_count": null,
      "metadata": {
        "collapsed": false
      },
      "outputs": [],
      "source": [
        "#--------------------------\n# Non-linear parameters:\n#--------------------------\n#       lam  c0\n#--------------------------\npar0 = [0.5, 50 ] # Start values\nlb   = [ 0, 0.05] # lower bounds\nub   = [ 1, 1000] # upper bounds\n\n#--------------------------\n# Linear parameters: \n#--------------------------\n#          Pfit\n#--------------------------\nlbl = np.zeros_like(r) # Non-negativity constraint of P\nubl = [] # Unconstrained upper boundary\n\n# Run SNLLS optimization\nfit = dl.snlls(V,Kmodel,par0,lb,ub,lbl,ubl)\nparfit = fit.nonlin\nPfit = fit.lin\n\n# Get non-linear parameters uncertainty\nparam95 = fit.nonlinUncert.ci(95)  #  95#-confidence interval\n\n# Get linear parameters (distribution) uncertainty\nPci50 = fit.linUncert.ci(50) #  50#-confidence interval\nPci95 = fit.linUncert.ci(95) #  95#-confidence interval\n\n# Print result\nprint(f'lambda = {parfit[0]:.2f}({param95[0,0]:.2f}-{param95[0,1]:.2f})')\nprint(f'c0 = {parfit[1]:.2f}({param95[1,0]:.2f}-{param95[1,1]:.2f})\u00b5M')\n\n# Get fitted model\nVfit = fit.model\nVci95 = fit.modelUncert.ci(95)\nVci50 = fit.modelUncert.ci(50)"
      ]
    },
    {
      "cell_type": "code",
      "execution_count": null,
      "metadata": {
        "collapsed": false
      },
      "outputs": [],
      "source": [
        "# Plot the data and the fits with uncertainty bands\nplt.subplot(211)\nplt.plot(t,V,'.',color='grey')\nplt.plot(t,Vfit,'tab:blue')\nplt.fill_between(t,Vci50[:,0],Vci50[:,1],color='tab:blue',alpha=0.4,linestyle='None')\nplt.fill_between(t,Vci95[:,0],Vci95[:,1],color='tab:blue',alpha=0.2,linestyle='None')\nplt.grid(alpha=0.3)\nplt.xlabel('t (\u00b5s)')\nplt.ylabel('V(t)')\nplt.legend(['data','fit'])\n\nplt.subplot(212)\nplt.plot(r,Pfit,'tab:blue')\nplt.fill_between(r,Pci50[:,0],Pci50[:,1],color='tab:blue',alpha=0.4,linestyle='None')\nplt.fill_between(r,Pci95[:,0],Pci95[:,1],color='tab:blue',alpha=0.2,linestyle='None')\nplt.grid(alpha=0.3)\nplt.xlabel('r (nm)')\nplt.ylabel('P(r) (nm\u207b\u00b9)')\nplt.legend(['truth','fit','50%-CI','95%-CI'])\n\nplt.tight_layout()\nplt.show()"
      ]
    }
  ],
  "metadata": {
    "kernelspec": {
      "display_name": "Python 3",
      "language": "python",
      "name": "python3"
    },
    "language_info": {
      "codemirror_mode": {
        "name": "ipython",
        "version": 3
      },
      "file_extension": ".py",
      "mimetype": "text/x-python",
      "name": "python",
      "nbconvert_exporter": "python",
      "pygments_lexer": "ipython3",
      "version": "3.7.10"
    }
  },
  "nbformat": 4,
  "nbformat_minor": 0
}