{
  "cells": [
    {
      "cell_type": "code",
      "execution_count": null,
      "metadata": {
        "collapsed": false
      },
      "outputs": [],
      "source": [
        "%matplotlib inline"
      ]
    },
    {
      "cell_type": "markdown",
      "metadata": {},
      "source": [
        "\nComparing confidence intervals for regularization results\n=========================================================\n\nA simpe example of uncertainty estimation for Tikhonov regularization \nresults. The example will cover the use of confidence intervals\nobtained from curvature matrices and boostrap analysis.\n"
      ]
    },
    {
      "cell_type": "code",
      "execution_count": null,
      "metadata": {
        "collapsed": false
      },
      "outputs": [],
      "source": [
        "import numpy as np \nimport matplotlib.pyplot as plt\nfrom deerlab import *"
      ]
    },
    {
      "cell_type": "markdown",
      "metadata": {},
      "source": [
        "Simulate the data\n------------------\n\nLet's start by generating some data.\n\n"
      ]
    },
    {
      "cell_type": "code",
      "execution_count": null,
      "metadata": {
        "collapsed": false
      },
      "outputs": [],
      "source": [
        "# Prepare signal components\nt = np.linspace(-0.4,3.5,200)\n\n# Use a distance-axis with less points to make analysis faster\nr = np.linspace(2,5,200)\n\nP = dd_gauss2(r,[3, 0.3, 0.6, 3.5, 0.4, 0.4])\nB = bg_strexp(t,[0.04,1])\nlam = 0.32\n\n# Generate the dipolar kernel\nK = dipolarkernel(t,r,lam,B)\n# Simulate signal\nV = K@P + whitegaussnoise(t,0.01)"
      ]
    },
    {
      "cell_type": "markdown",
      "metadata": {},
      "source": [
        "For the sake of simplicity, in this examples we will assume that we know the \nbackground exactly. Our first step is to generate the proper dipolar kernel.\n\nCovariance-based confidence intervals\n-------------------------------------\n\nWe now have all the elements required to fit our distance distribution via \nregularization. We will use the AIC to select the regularization parameter in \nthe Tikhonov regularization.\n\n"
      ]
    },
    {
      "cell_type": "code",
      "execution_count": null,
      "metadata": {
        "collapsed": false
      },
      "outputs": [],
      "source": [
        "# Fit data via regularization\nfit = fitregmodel(V,K,r,'tikhonov','aic')\nPfit = fit.P\nPuq = fit.uncertainty\n# Obtain time-domain fit\nVfit = K@Pfit\n\nplt.plot(r,P,'k',r,Pfit,'r',linewidth=1)\nPci95 = Puq.ci(95)\nPci50 = Puq.ci(50)\nplt.fill_between(r,Pci50[:,0],Pci50[:,1],color='r',linestyle='None',alpha=0.45)\nplt.fill_between(r,Pci95[:,0],Pci95[:,1],color='r',linestyle='None',alpha=0.25)\nplt.grid()\nplt.xlabel('r [nm]')\nplt.ylabel('P(r) [nm$^{-1}$]')\nplt.title('Curvature Matrix CI')\nplt.legend(['Truth','Fit','50%-CI','95%-CI'])"
      ]
    },
    {
      "cell_type": "markdown",
      "metadata": {},
      "source": [
        "Bootstrapped confidence intervals\n---------------------------------\n\nNow we are interested in the bootstrap confidence intervals. For this, we\nneed to define a boot function e.g. ``mybootfcn()`` which takes a signal as\noutput and returns the outputs of interest (``Pfit`` in our example).\n\n"
      ]
    },
    {
      "cell_type": "code",
      "execution_count": null,
      "metadata": {
        "collapsed": false
      },
      "outputs": [],
      "source": [
        "def mybootfcn(V):\n    fit = fitregmodel(V,K,r,'tikhonov','aic')\n    return fit.P\n\n# Launch bootstrapping\nNsamples = 50\nbooci = bootan(mybootfcn,V,Vfit,Nsamples)\nPci95 = booci.ci(95)\nPci50 = booci.ci(50)"
      ]
    },
    {
      "cell_type": "markdown",
      "metadata": {},
      "source": [
        "By plotting the results, one can see that the bootstrapped confidence intervals \nare narrower in comparison to the ones obtained via the curvature\nmatrices. This is due to the inherent accurate nature of bootstrapping. \n\n"
      ]
    },
    {
      "cell_type": "code",
      "execution_count": null,
      "metadata": {
        "collapsed": false
      },
      "outputs": [],
      "source": [
        "plt.plot(r,P,'k',r,Pfit,'b',linewidth=1)\nplt.fill_between(r,Pci50[:,0],Pci50[:,1],color='b',linestyle='None',alpha=0.45)\nplt.fill_between(r,Pci95[:,0],Pci95[:,1],color='b',linestyle='None',alpha=0.25)\nplt.grid(alpha=0.3)\nplt.xlabel('r [nm]')\nplt.ylabel('P(r) [nm$^{-1}$]')\nplt.title('Bootstrapped CI')\nplt.legend(['Truth','Fit','50%-CI','95%-CI'])"
      ]
    }
  ],
  "metadata": {
    "kernelspec": {
      "display_name": "Python 3",
      "language": "python",
      "name": "python3"
    },
    "language_info": {
      "codemirror_mode": {
        "name": "ipython",
        "version": 3
      },
      "file_extension": ".py",
      "mimetype": "text/x-python",
      "name": "python",
      "nbconvert_exporter": "python",
      "pygments_lexer": "ipython3",
      "version": "3.7.8"
    }
  },
  "nbformat": 4,
  "nbformat_minor": 0
}