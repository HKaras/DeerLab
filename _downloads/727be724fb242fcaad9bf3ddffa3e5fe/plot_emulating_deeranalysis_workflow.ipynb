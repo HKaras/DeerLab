{
  "cells": [
    {
      "cell_type": "code",
      "execution_count": null,
      "metadata": {
        "collapsed": false
      },
      "outputs": [],
      "source": [
        "%matplotlib inline"
      ]
    },
    {
      "cell_type": "markdown",
      "metadata": {},
      "source": [
        "\nEmulating the DeerAnalysis workflow\n===================================\n\nThis example shows how to reproduce the type of workflow implemented in\nDeerAnalysis, using DeerLab functions. This kind of analysis workflow is \noutdated and not recommended for routine or accurate data analysis.\n"
      ]
    },
    {
      "cell_type": "code",
      "execution_count": null,
      "metadata": {
        "collapsed": false
      },
      "outputs": [],
      "source": [
        "import numpy as np\nimport matplotlib.pyplot as plt\nfrom deerlab import *"
      ]
    },
    {
      "cell_type": "markdown",
      "metadata": {},
      "source": [
        "Generating a dataset\n---------------------\n\n For this example we will simulate a simple 4pDEER signal\n\n"
      ]
    },
    {
      "cell_type": "code",
      "execution_count": null,
      "metadata": {
        "collapsed": false
      },
      "outputs": [],
      "source": [
        "# Parameters\nt = np.linspace(-0.1,3,250)\nrtrue = np.linspace(1,7,200)\nPtrue = dd_gauss3(rtrue,[4.5, 0.6, 0.4, 3, 0.4, 0.3, 4, 0.7, 0.5])\nlam = 0.3\nconc = 180 #uM\n\n# Simulate an experimental signal with some a.u. and phase offset\nBmodel = lambda t, lam: bg_hom3d(t,conc,lam)\nK = dipolarkernel(t,rtrue,lam,Bmodel)\nV = K@Ptrue*np.exp(1j*np.pi/16) # add a phase shift \nnp.random.seed(1)\nrnoise = whitegaussnoise(t,0.01) # real-component noise \nnp.random.seed(2)\ninoise = 1j*whitegaussnoise(t,0.01) # imaginary-component noise \nV = V + rnoise + inoise # complex-valued noisy signal\nV = V*3e6 # add an arbitrary amplitude scale\n\nplt.plot(t,V.real,'.',t,V.imag,'.'),\nplt.xlabel('t [$\\mu s$]')\nplt.ylabel('V(t)')\nplt.grid(alpha=0.3)\nplt.legend(['real','imag'])"
      ]
    },
    {
      "cell_type": "markdown",
      "metadata": {},
      "source": [
        "DeerAnalysis workflow\n---------------------\n\n\n"
      ]
    },
    {
      "cell_type": "code",
      "execution_count": null,
      "metadata": {
        "collapsed": false
      },
      "outputs": [],
      "source": [
        "# Pre-processing\nV = correctphase(V)\nt = correctzerotime(V,t)\nV = V/max(V)\n\n# Distance axis estimation\nr = time2dist(t)\n\n# Background fit\ntstart = 1.0 # background fit start, in us\nmask = t>tstart\ndef Bmodel(par):\n    lam,kappa,d = par # unpack parameters\n    B = (1-lam)*bg_strexp(t[mask],[kappa,d],lam)\n    return B\n\n#       lam     k   d\npar0 = [0.5,   0.5, 3]\nlb   = [0.1,   0.1, 1]\nub   = [1,      5,  6]\nfit = fitparamodel(V[mask],Bmodel,par0,lb,ub,rescale=False)\n\nlamfit,kappa,d = fit.param\nBfit = bg_strexp(t,[kappa,d],lamfit)\n\n# Background \"correction\" by division\nVcorr = (V/Bfit - 1 + lamfit)/lamfit\n\n# Tikhonov regularization using the L-curve criterion\nK = dipolarkernel(t,r)\nfit = fitregmodel(Vcorr,K,r,'tikhonov','lr',)\nPfit = fit.P"
      ]
    },
    {
      "cell_type": "markdown",
      "metadata": {},
      "source": [
        "Plots\n-----\n\n"
      ]
    },
    {
      "cell_type": "code",
      "execution_count": null,
      "metadata": {
        "collapsed": false
      },
      "outputs": [],
      "source": [
        "plt.subplot(311)\nplt.plot(t,V,'k.',t,(1-lamfit)*Bfit,'r',linewidth=1.5)\nplt.xlabel('t [\\mus]')\nplt.ylabel('V(t)')\nplt.legend(['data','(1-\\lambda)B$_{fit}$'])\n\nplt.subplot(312)\nplt.plot(t,Vcorr,'k.',t,K@Pfit,'r',linewidth=1.5)\nplt.xlabel('t [\\mus]')\nplt.ylabel('V(t)')\nplt.legend(['corrected data','fit'])\n\nplt.subplot(313)\nplt.plot(rtrue,Ptrue,'k',r,Pfit,'r',linewidth=1.5)\nplt.xlabel('r [nm]')\nplt.ylabel('P [nm^{-1}]')\nplt.legend(['truth','fit'])"
      ]
    }
  ],
  "metadata": {
    "kernelspec": {
      "display_name": "Python 3",
      "language": "python",
      "name": "python3"
    },
    "language_info": {
      "codemirror_mode": {
        "name": "ipython",
        "version": 3
      },
      "file_extension": ".py",
      "mimetype": "text/x-python",
      "name": "python",
      "nbconvert_exporter": "python",
      "pygments_lexer": "ipython3",
      "version": "3.7.8"
    }
  },
  "nbformat": 4,
  "nbformat_minor": 0
}