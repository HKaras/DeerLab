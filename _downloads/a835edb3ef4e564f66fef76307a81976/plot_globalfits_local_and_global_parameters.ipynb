{
  "cells": [
    {
      "cell_type": "code",
      "execution_count": null,
      "metadata": {
        "collapsed": false
      },
      "outputs": [],
      "source": [
        "%matplotlib inline"
      ]
    },
    {
      "cell_type": "markdown",
      "metadata": {},
      "source": [
        "\n# Global model fits with global, local and fixed parameters\n\nThis example shows how to fit multiple signals to a global model, which\nmay depend on some parameters which need to be globally fitted, some\nlocally and some might be fixed and not fitted. \n"
      ]
    },
    {
      "cell_type": "code",
      "execution_count": null,
      "metadata": {
        "collapsed": false
      },
      "outputs": [],
      "source": [
        "import numpy as np\nimport matplotlib.pyplot as plt\nimport deerlab as dl"
      ]
    },
    {
      "cell_type": "markdown",
      "metadata": {},
      "source": [
        "## Generate two datasets\n For this example we will simulate a system containing two states A and B\n both havng a Gaussian distribution of known width but unknown mean\n distance. For this system we have two measurements V1 amd V2 measured\n under two different conditions leading to different fractions of states A\n and B. \n\n"
      ]
    },
    {
      "cell_type": "code",
      "execution_count": null,
      "metadata": {
        "collapsed": false
      },
      "outputs": [],
      "source": [
        "r = np.linspace(2,6,300)  # distance axis, in nm\nt1 = np.linspace(0,4,200) # time axis of first measurement, in us\nt2 = np.linspace(0,6,150) # time axis of first measurement, in us\n\n# Parameters\nrmeanA = 3.45 # mean distance state A, in nm\nrmeanB = 5.05 # mean distance state B, in nm\nsigmaA = 0.3  # standard deviation state A, in nm\nsigmaB = 0.2   # standard deviation state B, in nm\n\nfracA1 = 0.8 # Molar fraction of state A under conditions 1\nfracA2 = 0.2 # Molar fraction of state A under conditions 2\n# The molar fraction of state B is not required as it follows fracB = 1 - fracA\n\n# Generate the two distributions for conditions 1 & 2\nP1 = dl.dd_gauss2(r,[rmeanA, sigmaA, fracA1, rmeanB, sigmaB, 1-fracA1])\nP2 = dl.dd_gauss2(r,[rmeanA, sigmaA, fracA2, rmeanB, sigmaB, 1-fracA2])\n\n# Generate the corresponding dipolar kernels\nK1 = dl.dipolarkernel(t1,r)\nK2 = dl.dipolarkernel(t2,r)\n\n# ...and the two corresponding signals\nV1 = K1@P1 + dl.whitegaussnoise(t1,0.01,seed=0)\nV2 = K2@P2 + dl.whitegaussnoise(t2,0.02,seed=1)\n# (for the sake of simplicity no background and 100# modulation depth are assumed)"
      ]
    },
    {
      "cell_type": "markdown",
      "metadata": {},
      "source": [
        "## Global fit\nNow when considering such systems is always important to (1) identify the\nparameters which must be fitted and (2) identify which parameters are the\nsame for all signals (global) and which are specific for a individual\nsignal (local). \n\nIn this examples we have the following parameters:\n  - fixed: ``sigmaA``, ``sigmaB`` (known paramters)\n  - global: ``rmeanA``, ``rmeanB`` (same for both signals)\n  - local: ``fracA1``, ``fracA2`` (different for both signals/conditions)\n\nThe next step is to construct the model function which describes our\nsystem. This function models the signals in our A-B system, and it is used to\nsimulate all signals passed to ``fitparamodel``. The function must\nreturn (at least) a list of simulations of all the signals\npassed to ``fitparamodel``.\n\n"
      ]
    },
    {
      "cell_type": "code",
      "execution_count": null,
      "metadata": {
        "collapsed": false
      },
      "outputs": [],
      "source": [
        "# Model definition\ndef myABmodel(par):\n\n    #Fixed parameters\n    sigmaA = 0.5\n    sigmaB = 0.3\n    #Global parameters\n    rmeanA = par[0]\n    rmeanB = par[1]\n    #Local parameters\n    fracA1 = par[2]\n    fracA2 = par[3]\n    \n    # Generate the signal-specific distribution\n    Pfit1 = dl.dd_gauss2(r,[rmeanA, sigmaA, fracA1, rmeanB, sigmaB, max(1-fracA1,0)])\n    Pfit2 = dl.dd_gauss2(r,[rmeanA, sigmaA, fracA2, rmeanB, sigmaB, max(1-fracA2,0)])\n\n    # Generate signal #1\n    V1fit = K1 @ Pfit1\n    # Generate signal #2\n    V2fit = K2 @ Pfit2\n    # Return as a list\n    Vfits = [V1fit,V2fit]\n\n    return Vfits,Pfit1,Pfit2\n\n#-----------------------------------------\n#                Fit parameters \n#-----------------------------------------\n#        [rmeanA rmeanB fracA1 fracA2]\n#-----------------------------------------\npar0 =   [2,       2,    0.5,    0.5]\nlower =  [1,       1,     0,      0]\nupper =  [20,     20,     1,      1]\n#-----------------------------------------"
      ]
    },
    {
      "cell_type": "markdown",
      "metadata": {},
      "source": [
        "Note that our model function ``myABmodel`` returns multiple outputs.\nThis is advantegoud to later recover all fits directly, however, the fit\nfunction does only allow one output, specifically, the list of simulated signals.\nTherefore, we must create a lambda function which just takes the first ouput argument \nof ``myABmodel``.\n\n"
      ]
    },
    {
      "cell_type": "code",
      "execution_count": null,
      "metadata": {
        "collapsed": false
      },
      "outputs": [],
      "source": [
        "model = lambda par: myABmodel(par)[0] # call myABmodel with par and take the first output\n\n# Collect data for global fit into cell arrays\nVs = [V1,V2]\n\n# Fit the global parametric model to both signals\nfit = dl.fitparamodel(Vs,model,par0,lower,upper,multistart=40)\n\n# The use of the option 'multistart' will help the solver to find the\n# global minimum and not to get stuck at local minima.\n\n# Get the fitted models \nVfits,Pfit1,Pfit2 = myABmodel(fit.param)\nVfit1 = Vfits[0]\nVfit2 = Vfits[1]"
      ]
    },
    {
      "cell_type": "markdown",
      "metadata": {},
      "source": [
        "## Plot results\n\n"
      ]
    },
    {
      "cell_type": "code",
      "execution_count": null,
      "metadata": {
        "collapsed": false
      },
      "outputs": [],
      "source": [
        "plt.subplot(221)\nplt.plot(t1,V1,'k.',t1,Vfit1,'r')\nplt.grid(alpha=0.3)\nplt.xlabel('t [$\\mu s$]')\nplt.ylabel('V(t)')\nplt.title('Conditions #1')\n\nplt.subplot(222)\nplt.plot(r,P1,'k',r,Pfit1,'r')\nplt.grid(alpha=0.3)\nplt.xlabel('r [nm]')\nplt.ylabel('P(r) [nm]^{-1}')\nplt.legend(['truth','fit'])\n\nplt.subplot(223)\nplt.plot(t2,V2,'k.',t2,Vfit2,'b')\nplt.grid(alpha=0.3)\nplt.xlabel('t [$\\mu s$]')\nplt.ylabel('V(t)')\nplt.title('Conditions #2')\n\nplt.subplot(224)\nplt.plot(r,P2,'k',r,Pfit2,'b')\nplt.grid(alpha=0.3)\nplt.xlabel('r [nm]')\nplt.ylabel('P(r) [nm]$^{-1}$')\nplt.legend(['truth','fit'])\n\nplt.tight_layout()\nplt.show()"
      ]
    }
  ],
  "metadata": {
    "kernelspec": {
      "display_name": "Python 3",
      "language": "python",
      "name": "python3"
    },
    "language_info": {
      "codemirror_mode": {
        "name": "ipython",
        "version": 3
      },
      "file_extension": ".py",
      "mimetype": "text/x-python",
      "name": "python",
      "nbconvert_exporter": "python",
      "pygments_lexer": "ipython3",
      "version": "3.7.9"
    }
  },
  "nbformat": 4,
  "nbformat_minor": 0
}