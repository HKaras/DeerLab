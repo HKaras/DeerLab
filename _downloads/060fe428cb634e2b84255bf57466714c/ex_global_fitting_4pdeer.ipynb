{
  "cells": [
    {
      "cell_type": "code",
      "execution_count": null,
      "metadata": {
        "collapsed": false
      },
      "outputs": [],
      "source": [
        "%matplotlib inline"
      ]
    },
    {
      "cell_type": "markdown",
      "metadata": {},
      "source": [
        "# Global fitting of multiple 4-pulse DEER signals, non-parametric distribution\n\nHow to fit multiple 4-pulse DEER signals to a model with a non-parametric\ndistribution and a homogeneous background, using Tikhonov regularization.\n"
      ]
    },
    {
      "cell_type": "code",
      "execution_count": null,
      "metadata": {
        "collapsed": false
      },
      "outputs": [],
      "source": [
        "import numpy as np\nimport matplotlib.pyplot as plt\nimport deerlab as dl"
      ]
    },
    {
      "cell_type": "markdown",
      "metadata": {},
      "source": [
        "# Load and pre-process data\n\nUncomment and use the following lines if you have experimental data:\n\ndatasets = ('file1.DTA','file2.DTA','file3.DTA')\ndata = [dl.deerload(ds) for ds in datasets]\nt = [_[0] for _ in data]\nV = [_[1] for _ in data]\n\n\n"
      ]
    },
    {
      "cell_type": "markdown",
      "metadata": {},
      "source": [
        "# Simulate data\n\nIn this example we will use three simulated 4-pulse DEER signals instead:\n\n"
      ]
    },
    {
      "cell_type": "code",
      "execution_count": null,
      "metadata": {
        "collapsed": false
      },
      "outputs": [],
      "source": [
        "# Define a function that generates synthetic data\ndef generatedata():\n    r = np.linspace(2,5,200)                # distance axis, nm\n    param = [3, 0.1, 0.2, 3.5, 0.1, 0.65]   # parameters for three-Gaussian model\n    P = dl.dd_gauss2(r,param)               # model distance distribution\n\n    t1 = np.linspace(-0.1,4,250)             # time axis 1, \u00b5s\n    t2 = np.linspace(-0.2,3,200)             # time axis 2, \u00b5s\n    t3 = np.linspace(-0.2,2,500)             # time axis 3, \u00b5s\n\n    K1 = dl.dipolarkernel(t1,r,mod=0.3,bg=dl.bg_hom3d(t1,150,0.3))  # dipolar kernel 1\n    K2 = dl.dipolarkernel(t2,r,mod=0.4,bg=dl.bg_hom3d(t2,80,0.4))   # dipolar kernel 2\n    K3 = dl.dipolarkernel(t3,r,mod=0.4,bg=dl.bg_hom3d(t3,20,0.4))   # dipolar kernel 3\n\n    V1 = K1@P + dl.whitegaussnoise(t1,0.01,seed=1) # simulated signal 1\n    V2 = K2@P + dl.whitegaussnoise(t2,0.02,seed=2) # simulated signal 2\n    V3 = K3@P + dl.whitegaussnoise(t3,0.01,seed=3) # simulated signal 3\n    \n    return [t1,t2,t3], [V1,V2,V3]\n\nt, V = generatedata()"
      ]
    },
    {
      "cell_type": "markdown",
      "metadata": {},
      "source": [
        "When doing global fitting, you must specify a list of the signals as well as a list of the corresponding time axes. \nThen, a model type for the global distance distribution model and finally a list of models for the background and experiment.\nIn this case we assume that both signals can be modelled as 3D-homogenous distributions of spins and that they are simple 4-pulse\nDEER experiments.\n\n"
      ]
    },
    {
      "cell_type": "code",
      "execution_count": null,
      "metadata": {
        "collapsed": false
      },
      "outputs": [],
      "source": [
        "# Run fit\nr = np.linspace(2,5,200)\nfit = dl.fitmodel(V,t,r,'P',[dl.bg_hom3d,dl.bg_hom3d,dl.bg_hom3d],[dl.ex_4pdeer,dl.ex_4pdeer,dl.ex_4pdeer],verbose=True)\nfit.plot();"
      ]
    }
  ],
  "metadata": {
    "kernelspec": {
      "display_name": "Python 3",
      "language": "python",
      "name": "python3"
    },
    "language_info": {
      "codemirror_mode": {
        "name": "ipython",
        "version": 3
      },
      "file_extension": ".py",
      "mimetype": "text/x-python",
      "name": "python",
      "nbconvert_exporter": "python",
      "pygments_lexer": "ipython3",
      "version": "3.7.10"
    }
  },
  "nbformat": 4,
  "nbformat_minor": 0
}