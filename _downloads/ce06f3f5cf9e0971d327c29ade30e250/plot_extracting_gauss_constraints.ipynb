{
  "cells": [
    {
      "cell_type": "code",
      "execution_count": null,
      "metadata": {
        "collapsed": false
      },
      "outputs": [],
      "source": [
        "%matplotlib inline"
      ]
    },
    {
      "cell_type": "markdown",
      "metadata": {},
      "source": [
        "\n# Fitting Gaussians to a non-parametric distance distribution\n\nThis example shows how to fit Gaussians to a non-parametric distance\ndistribution obtained via Tikhonov regularization and how to calculate\nthe corresponding uncertainty. \n"
      ]
    },
    {
      "cell_type": "code",
      "execution_count": null,
      "metadata": {
        "collapsed": false
      },
      "outputs": [],
      "source": [
        "import numpy as np\nimport matplotlib.pyplot as plt\nimport deerlab as dl"
      ]
    },
    {
      "cell_type": "code",
      "execution_count": null,
      "metadata": {
        "collapsed": false
      },
      "outputs": [],
      "source": [
        "# Simulate a 4pDEER signal\n\nt = np.linspace(0,5,250)   # time axis, \u00b5s\nr = np.linspace(1,7,200)   # distance axis, nm\nP = dl.dd_gauss3(r,[4.5, 0.35, 0.4, 3, 0.25, 0.3, 4, 0.4, 0.5])  # distance distribution\nlam = 0.3                  # modulation depth\nconc = 80                  # spin concentration, \u00b5M\n\nB = dl.bg_hom3d(t,conc,lam)                   # background\nK = dl.dipolarkernel(t,r,lam,B)               # kernel matrix\nV = K@P + dl.whitegaussnoise(t,0.01,seed=0)   # DEER trace, with added noise"
      ]
    },
    {
      "cell_type": "markdown",
      "metadata": {},
      "source": [
        "## Fit the dipolar signal\nFirst, we fit the non-parametric distance distribution using ``fitsignal()``\n%%\n\n"
      ]
    },
    {
      "cell_type": "code",
      "execution_count": null,
      "metadata": {
        "collapsed": false
      },
      "outputs": [],
      "source": [
        "fit = dl.fitsignal(V,t,r,'P',dl.bg_exp,dl.ex_4pdeer)\nfit.plot()"
      ]
    },
    {
      "cell_type": "markdown",
      "metadata": {},
      "source": [
        "## Fit Gaussians to the distance distribution\nNext, we fit a multi-Gauss distribution to the fitted non-parametric\ndistribution. We can do this by using the ``fitparamodel()`` function (in\nthis example, fitting a two-Gauss model). \n\nHowever, in order to get the correct uncertainty quantification, we need\nto specify the covariance matrix of the fitted distribution.\n``fitparamodel()`` can then use that information to propagate the error in\n``Pfit`` to the Gauss constraints that we then fit.\n\n"
      ]
    },
    {
      "cell_type": "code",
      "execution_count": null,
      "metadata": {
        "collapsed": false
      },
      "outputs": [],
      "source": [
        "# From the fit results, extract the distribution and the covariance matrix\nPfit = fit.P\nPfit_uq = fit.Puncert\nPfit_covmat = Pfit_uq.covmat"
      ]
    },
    {
      "cell_type": "markdown",
      "metadata": {},
      "source": [
        "Fit a 2-Gauss model to the fitted parameter-free distribution:\n\n    - ``parfit```: will contain the Gaussian constraints\n    - ``PGauss```: the corresponding distribution\n    - ``paruq```: the uncertainty quantification of our constraints\n\n"
      ]
    },
    {
      "cell_type": "code",
      "execution_count": null,
      "metadata": {
        "collapsed": false
      },
      "outputs": [],
      "source": [
        "Pmodel = lambda p: dl.dd_gauss2(r,p)\n# Get information on the model\ninfo = dl.dd_gauss2()\npar0 = info['Start']\nlb = info['Lower']\nub = info['Upper']\n\n# Fit the Gaussians\nfit = dl.fitparamodel(Pfit,Pmodel,par0,lb,ub,covmatrix=Pfit_covmat,rescale=False)\n\n# Extract the fit results\nparfit = fit.param\nparuq = fit.uncertainty\nPGauss = dl.dd_gauss2(r,parfit)\n\n# Extract the 95%-confidence intervals...\npar95 = paruq.ci(95)\n# ... and print the results\nprint('\\nGaussian components:')\ninfo = dl.dd_gauss2()\nfor i in range(len(parfit)):\n    print('  parfit[{}] = {:2.2f} ({:2.2f}, {:2.2f}) {}'.format(i,parfit[i],par95[i,0],par95[i,1],info['Parameters'][i]))\n\n# Now propagate the error of the Gaussian parameters to the distribution\nlb = np.zeros_like(r) # non-negativity constraint\nPGauss_uq = paruq.propagate(lambda par: dl.dd_gauss2(r,par),lb)\nPGauss95 = PGauss_uq.ci(95)"
      ]
    },
    {
      "cell_type": "code",
      "execution_count": null,
      "metadata": {
        "collapsed": false
      },
      "outputs": [],
      "source": [
        "# Plot the fitted constraints model on top of the non-parametric case\nplt.plot(r,Pfit,'r',linewidth=1.5)\nplt.fill_between(r,Pfit_uq.ci(95)[:,0], Pfit_uq.ci(95)[:,1],facecolor='r',linestyle='None',alpha=0.2)\n\nplt.plot(r,PGauss,'b',linewidth=1.5)\nplt.fill_between(r,PGauss95[:,0], PGauss95[:,1],facecolor='b',linestyle='None',alpha=0.2)\n\nplt.xlabel('Distance [nm]')\nplt.ylabel('P [nm$^{-1}$]')\nplt.tight_layout()\nplt.grid(alpha=0.3)\nplt.legend(['Tikhonov fit','95%-CI','2G fit to Tikhonov','95%-CI'])\nplt.show()"
      ]
    }
  ],
  "metadata": {
    "kernelspec": {
      "display_name": "Python 3",
      "language": "python",
      "name": "python3"
    },
    "language_info": {
      "codemirror_mode": {
        "name": "ipython",
        "version": 3
      },
      "file_extension": ".py",
      "mimetype": "text/x-python",
      "name": "python",
      "nbconvert_exporter": "python",
      "pygments_lexer": "ipython3",
      "version": "3.7.9"
    }
  },
  "nbformat": 4,
  "nbformat_minor": 0
}