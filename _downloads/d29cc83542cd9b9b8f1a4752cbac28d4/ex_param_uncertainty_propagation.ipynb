{
  "cells": [
    {
      "cell_type": "code",
      "execution_count": null,
      "metadata": {
        "collapsed": false
      },
      "outputs": [],
      "source": [
        "%matplotlib inline"
      ]
    },
    {
      "cell_type": "markdown",
      "metadata": {},
      "source": [
        "\n# Uncertainty propagation from parameter fits \n\nHow to propagate the uncertainty of the fitted parameters to the models which depend on them.\n"
      ]
    },
    {
      "cell_type": "code",
      "execution_count": null,
      "metadata": {
        "collapsed": false
      },
      "outputs": [],
      "source": [
        "import numpy as np\nimport matplotlib.pyplot as plt\nimport deerlab as dl"
      ]
    },
    {
      "cell_type": "markdown",
      "metadata": {},
      "source": [
        "## Generate data\n\n"
      ]
    },
    {
      "cell_type": "code",
      "execution_count": null,
      "metadata": {
        "collapsed": false
      },
      "outputs": [],
      "source": [
        "t = np.linspace(-0.2,4,300)   # \u00b5s\nr = np.linspace(2,5,400)     # nm\ncenter = 3.5 # Rician center distance, nm\nwidth = 0.3 # Rician width, nm\nlam = 0.27 # Modulation depth\nconc = 150 # Spin concentration, \u00b5M\nP = dl.dd_rice(r,[center, width])\nB = dl.bg_hom3d(t,conc,lam)\nK = dl.dipolarkernel(t,r,mod=lam,bg=B)\nV = K@P + dl.whitegaussnoise(t,0.03,seed=0)"
      ]
    },
    {
      "cell_type": "markdown",
      "metadata": {},
      "source": [
        "## Fit the data\nFirst we define the models for the different elements in our analysis\n(background, distribution and dipolar signal). For simplicity these\nmodels take the full parameter set\n\n``par = [lambda center width conc]``\n\nand select the appropiate elements from the parameter set, i.e.\n\n``Pmodel = f(center,width) -> par[1] & par[2]``\n``Bmodel = f(conc,lambda)  -> par[3] & par[0]``\n``Vmodel = f(par)          -> par[0] & par[1] & par[2] & par[3]``\n\nBy defining the models like this, we can spare then the indexing of the\nparameters each time we call one of these model and can pass the full\nparameter set directly.\n\n"
      ]
    },
    {
      "cell_type": "code",
      "execution_count": null,
      "metadata": {
        "collapsed": false
      },
      "outputs": [],
      "source": [
        "# Pre-calculate the elemental dipolar kernel (for speed)\nK0 = dl.dipolarkernel(t,r)\n\nPmodel = lambda par: dl.dd_rice(r,par[1:3])\nBmodel = lambda par: dl.bg_hom3d(t,par[3],par[0])\nVmodel = lambda par: (1 - par[0] + par[0]*K0@Pmodel(par))*Bmodel(par)"
      ]
    },
    {
      "cell_type": "markdown",
      "metadata": {},
      "source": [
        "Next since we are dealing with a custom-defined model we need to specify\nthe start values as well as boundaries of the parameter set:\n\n"
      ]
    },
    {
      "cell_type": "code",
      "execution_count": null,
      "metadata": {
        "collapsed": false
      },
      "outputs": [],
      "source": [
        "# Parameters:[lam center width conc]\npar0  =      [0.35, 4.0,  0.4, 500 ] # start values\nlower =      [0.10, 2.0,  0.1, 0.1 ] # lower bounds\nupper =      [0.50, 7.0,  0.5, 1500] # upper bounds\n\n# Finally we can run the fit and get the fitted parameters and their uncertainties\nfit = dl.fitparamodel(V,Vmodel,par0,lower,upper)\n\nparfit = fit.param\nparuq = fit.paramUncert\n\n# Forward-calculate the models with the fitted parameters\nVfit = Vmodel(parfit)\nPfit = Pmodel(parfit)\nBfit = Bmodel(parfit)\nlamfit = parfit[0]"
      ]
    },
    {
      "cell_type": "markdown",
      "metadata": {},
      "source": [
        "## Uncertainty propagation\n In DeerLab, all uncertainty quantification objects contain a method\n ``.propagate()``, which has all the internal information on the \n covariance matrices required to propagate the uncertainty from \n the parameters to the fits. \n\n Thus, all we neeed to do is call ``.propagate``` and pass the model function\n which we want to propagate the uncertainty to. It is important that if\n the uncertainty quantification structure is defined for N-parameters (N=4\n in this case) the model function must accept all N parameters. Since we\n defined our model function to accept all N parameters already we do not\n need to worry about it.\n\n"
      ]
    },
    {
      "cell_type": "markdown",
      "metadata": {},
      "source": [
        "1. Uncertainty of the dipolar signal fit: This case is easy, we already have the model and it is unconstrained\n\n"
      ]
    },
    {
      "cell_type": "code",
      "execution_count": null,
      "metadata": {
        "collapsed": false
      },
      "outputs": [],
      "source": [
        "Vuq = paruq.propagate(Vmodel) # Uncertainty quantification for Vfit\nVci95 = Vuq.ci(95) # 95#-confidence intervals for Vfit"
      ]
    },
    {
      "cell_type": "markdown",
      "metadata": {},
      "source": [
        "2. Uncertainty of the distance distribution: In this case, the distribution has a non-negativity constraint which we\ncan specify via the lb input. \n\n"
      ]
    },
    {
      "cell_type": "code",
      "execution_count": null,
      "metadata": {
        "collapsed": false
      },
      "outputs": [],
      "source": [
        "lb = np.zeros_like(r) # Non-negativity constraint\nPuq = paruq.propagate(Pmodel,lb) # Uncertainty quantification for Pfit\nPci95 = Puq.ci(95) # 95%-confidence intervals for Pfit\nPci50 = Puq.ci(50) # 50%-confidence intervals for Pfit"
      ]
    },
    {
      "cell_type": "markdown",
      "metadata": {},
      "source": [
        "3. Uncertainty of the background: In this case, since we want to use this for plotting we need to evaluate\nthe function (1-lambda)*Bfit instead of just Bfit in order to plot the\\\ncorrect function.\n\n"
      ]
    },
    {
      "cell_type": "code",
      "execution_count": null,
      "metadata": {
        "collapsed": false
      },
      "outputs": [],
      "source": [
        "Buq = paruq.propagate(lambda p:(1-p[0])*Bmodel(p)) # Uncertainty quantification for (1-lam)Bfit\nBci95 = Buq.ci(95) # 95#-confidence intervals for (1-lam)Bfit"
      ]
    },
    {
      "cell_type": "markdown",
      "metadata": {},
      "source": [
        "## Plots\n\n"
      ]
    },
    {
      "cell_type": "code",
      "execution_count": null,
      "metadata": {
        "collapsed": false
      },
      "outputs": [],
      "source": [
        "plt.figure(figsize=(7,7))\n\n# Time-domain\nplt.subplot(211)\nplt.plot(t,V,'.',color='grey') \nplt.plot(t,Vfit,'tab:red',t,(1-lamfit)*Bfit,'tab:blue',linewidth=1.5)\nplt.fill_between(t,Vci95[:,0],Vci95[:,1],color='tab:red',alpha=0.3,linestyle='None')\nplt.fill_between(t,Bci95[:,0],Bci95[:,1],color='tab:blue',alpha=0.3,linestyle='None')\nplt.grid(alpha=0.3)\nplt.xlabel('t (\u00b5s)')\nplt.ylabel('V(t)')\nplt.legend(['data','Vfit','Bfit','Vfit 95%-CI','Bfit 95%-CI'])\n\n# Distance-domain\nplt.subplot(212)\nplt.plot(r,Pfit,'r',linewidth=1.5)\nplt.fill_between(r,Pci95[:,0],Pci95[:,1],color='tab:red',alpha=0.3,linestyle='None')\nplt.fill_between(r,Pci50[:,0],Pci50[:,1],color='tab:red',alpha=0.3,linestyle='None')\nplt.xlabel('r (nm)')\nplt.ylabel('P (nm\u207b\u00b9)')\nplt.grid(alpha=0.3)\nplt.legend(['truth','Pfit','Pfit 95%-CI'])\n\nplt.show()"
      ]
    }
  ],
  "metadata": {
    "kernelspec": {
      "display_name": "Python 3",
      "language": "python",
      "name": "python3"
    },
    "language_info": {
      "codemirror_mode": {
        "name": "ipython",
        "version": 3
      },
      "file_extension": ".py",
      "mimetype": "text/x-python",
      "name": "python",
      "nbconvert_exporter": "python",
      "pygments_lexer": "ipython3",
      "version": "3.7.10"
    }
  },
  "nbformat": 4,
  "nbformat_minor": 0
}