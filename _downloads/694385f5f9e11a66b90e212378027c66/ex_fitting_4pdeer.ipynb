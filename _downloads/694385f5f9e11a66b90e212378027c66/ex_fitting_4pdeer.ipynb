{
  "cells": [
    {
      "cell_type": "code",
      "execution_count": null,
      "metadata": {
        "collapsed": false
      },
      "outputs": [],
      "source": [
        "%matplotlib inline"
      ]
    },
    {
      "cell_type": "markdown",
      "metadata": {},
      "source": [
        "# Basic analysis of a 4-pulse DEER signal, non-parametric distribution\n\nFit a simple 4-pulse DEER signal with a model with a non-parametric\ndistribution and a homogeneous background, using Tikhonov regularization.\n"
      ]
    },
    {
      "cell_type": "code",
      "execution_count": null,
      "metadata": {
        "collapsed": false
      },
      "outputs": [],
      "source": [
        "import numpy as np\nimport matplotlib.pyplot as plt\nimport deerlab as dl"
      ]
    },
    {
      "cell_type": "markdown",
      "metadata": {},
      "source": [
        "# Load and pre-process data\n\nUncomment and use the following lines if you have experimental data:\n\nt, Vexp = dl.deerload('my\\path\\4pdeer_data.DTA')\nVexp = dl.correctphase(Vexp)\nt = dl.correctzerotime(Vexp,t)\n\nIn this example we will use simulated data instead.\n\n"
      ]
    },
    {
      "cell_type": "markdown",
      "metadata": {},
      "source": [
        "# Generate data\n\n\n"
      ]
    },
    {
      "cell_type": "code",
      "execution_count": null,
      "metadata": {
        "collapsed": false
      },
      "outputs": [],
      "source": [
        "# Define a function that generates synthetic data\ndef generatedata():\n    t = np.linspace(-0.1,4,250)        # time axis, \u00b5s\n    r = np.linspace(2,5,200)           # distance axis, nm\n    param = [3, 0.1, 0.2, 3.5, 0.1, 0.65, 3.8, 0.05, 0.15] # parameters for three-Gaussian model\n    P = dl.dd_gauss3(r,param)          # model distance distribution\n    lam = 0.5                          # modulation depth\n    B = dl.bg_hom3d(t,300,lam)         # background decay\n    K = dl.dipolarkernel(t,r,mod=lam,bg=B)    # kernel matrix\n    Vexp = K@P + dl.whitegaussnoise(t,0.01,seed=0)  # DEER signal with added noise\n    return t, Vexp\n\nt, Vexp = generatedata()"
      ]
    },
    {
      "cell_type": "markdown",
      "metadata": {},
      "source": [
        "# Run fit\n\n"
      ]
    },
    {
      "cell_type": "code",
      "execution_count": null,
      "metadata": {
        "collapsed": false
      },
      "outputs": [],
      "source": [
        "r = np.linspace(2,5,200)           # distance axis, nm\nfit = dl.fitmodel(Vexp,t,r,'P',dl.bg_hom3d,dl.ex_4pdeer,verbose=True)\nfit.plot();"
      ]
    }
  ],
  "metadata": {
    "kernelspec": {
      "display_name": "Python 3",
      "language": "python",
      "name": "python3"
    },
    "language_info": {
      "codemirror_mode": {
        "name": "ipython",
        "version": 3
      },
      "file_extension": ".py",
      "mimetype": "text/x-python",
      "name": "python",
      "nbconvert_exporter": "python",
      "pygments_lexer": "ipython3",
      "version": "3.7.10"
    }
  },
  "nbformat": 4,
  "nbformat_minor": 0
}